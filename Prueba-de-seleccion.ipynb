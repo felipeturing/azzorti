{
 "cells": [
  {
   "cell_type": "markdown",
   "id": "751f2d1b",
   "metadata": {},
   "source": [
    "### Prueba de Selección de la empresa Azzorti para el puesto Prácticante de Ciencia de Datos\n",
    "\n",
    "Cierta compañía internacional de venta directa tiene un catálogo que tiene\n",
    "21 días de vida, los primeros tres días se reciben alrededor del 30% (en\n",
    "promedio) de los pedidos totales que corresponden a los 10 grupos de venta.\n",
    "Con dichos pedidos se busca pronosticar los pedidos totales al cierre de los\n",
    "21 días."
   ]
  },
  {
   "cell_type": "code",
   "execution_count": 318,
   "id": "362a9a67",
   "metadata": {},
   "outputs": [],
   "source": [
    "import numpy as np\n",
    "import pandas as pd\n",
    "import matplotlib.pyplot as plt\n",
    "\n",
    "from sklearn.model_selection import train_test_split\n",
    "from sklearn.linear_model import LinearRegression\n",
    "from sklearn.ensemble import RandomForestRegressor\n",
    "from sklearn.ensemble import GradientBoostingRegressor\n",
    "\n",
    "from sklearn.metrics import mean_squared_error, r2_score, average_precision_score, precision_recall_curve\n",
    "from sklearn.preprocessing import StandardScaler, PolynomialFeatures"
   ]
  },
  {
   "cell_type": "code",
   "execution_count": 360,
   "id": "6c112f25",
   "metadata": {},
   "outputs": [],
   "source": [
    "def metricas(y_test, y_pred):\n",
    "    r2score = r2_score(y_test, y_pred)\n",
    "    mse = mean_squared_error(y_test, y_pred)\n",
    "    rmse = np.sqrt(mean_squared_error(y_test, y_pred))\n",
    "    print(\"MSE\", mse)\n",
    "    print(\"RMSE\", rmse)\n",
    "    print(\"RMSE %\", rmse * 100)\n",
    "    #print(\"R2\", r2score)\n",
    "    #print(\"R2 %\", r2score * 100)"
   ]
  },
  {
   "cell_type": "code",
   "execution_count": 491,
   "id": "1031e03c",
   "metadata": {},
   "outputs": [
    {
     "name": "stdout",
     "output_type": "stream",
     "text": [
      "CPU times: user 26.9 ms, sys: 114 µs, total: 27 ms\n",
      "Wall time: 34.1 ms\n"
     ]
    }
   ],
   "source": [
    "%%time\n",
    "datos = pd.read_excel(\"datos/Datos_201901_202009.xlsx\", index_col=None, engine=\"openpyxl\") # Retorna un DataFrame\n",
    "#datos.head(5) # Primeras 5 campañas del 2019\n",
    "#datos.columns # Listar las columnas\n",
    "#datos.info() # Lista de metadatos del DataFrame\n",
    "#datos[\"PEDIDOS_TOTALES\"].describe() # Estadística descriptiva básica de la columna PEDIDOS_TOTALES\n",
    "#datos[ datos.CAMPAÑA < 202000 ].head(5)# Primeras 5 campañas del 2020\n",
    "\n",
    "## Gráfico para relacionar variables\n",
    "#datos.plot(kind='scatter',x='GRUPO_1',y='GRUPO_2',color='red')\n",
    "#plt.show()"
   ]
  },
  {
   "cell_type": "code",
   "execution_count": 492,
   "id": "c03db27a",
   "metadata": {},
   "outputs": [
    {
     "name": "stdout",
     "output_type": "stream",
     "text": [
      "CPU times: user 26 ms, sys: 53 µs, total: 26 ms\n",
      "Wall time: 34 ms\n"
     ]
    },
    {
     "data": {
      "text/plain": [
       "Index(['PROMEDIO_GRUPOS_LOG', 'AÑO_CAMPAÑA', 'TERCIO_AÑO_CAMPAÑA',\n",
       "       'GRUPO_1_LOG', 'GRUPO_2_LOG', 'GRUPO_3_LOG', 'GRUPO_4_LOG',\n",
       "       'GRUPO_5_LOG', 'GRUPO_6_LOG', 'GRUPO_7_LOG', 'GRUPO_8_LOG',\n",
       "       'GRUPO_9_LOG', 'GRUPO_10_LOG', 'PEDIDOS_TOTALES_LOG',\n",
       "       'CAMBIO_PORCENTUAL_GRUPO_1', 'CAMBIO_PORCENTUAL_GRUPO_2',\n",
       "       'CAMBIO_PORCENTUAL_GRUPO_3', 'CAMBIO_PORCENTUAL_GRUPO_4',\n",
       "       'CAMBIO_PORCENTUAL_GRUPO_5', 'CAMBIO_PORCENTUAL_GRUPO_6',\n",
       "       'CAMBIO_PORCENTUAL_GRUPO_7', 'CAMBIO_PORCENTUAL_GRUPO_8',\n",
       "       'CAMBIO_PORCENTUAL_GRUPO_9', 'CAMBIO_PORCENTUAL_GRUPO_10'],\n",
       "      dtype='object')"
      ]
     },
     "execution_count": 492,
     "metadata": {},
     "output_type": "execute_result"
    }
   ],
   "source": [
    "%%time\n",
    "suma_grupos = datos['GRUPO_1'] + datos['GRUPO_2'] + datos['GRUPO_3'] + datos['GRUPO_4'] + datos['GRUPO_5'] + datos['GRUPO_6'] + datos['GRUPO_7'] + datos['GRUPO_8'] + datos['GRUPO_9'] + datos['GRUPO_10']\n",
    "datos['PROMEDIO_GRUPOS_LOG'] = np.log( suma_grupos / 10 )\n",
    "datos['AÑO_CAMPAÑA'] = datos['CAMPAÑA'] // 100\n",
    "datos['TERCIO_AÑO_CAMPAÑA'] = (datos['CAMPAÑA'] % 100) // 3 # Falta optimizar esta característica\n",
    "\n",
    "datos['GRUPO_1_LOG'] = np.log(datos['GRUPO_1'])\n",
    "datos['GRUPO_2_LOG'] = np.log(datos['GRUPO_2'])\n",
    "datos['GRUPO_3_LOG'] = np.log(datos['GRUPO_3'])\n",
    "datos['GRUPO_4_LOG'] = np.log(datos['GRUPO_4'])\n",
    "datos['GRUPO_5_LOG'] = np.log(datos['GRUPO_5'])\n",
    "datos['GRUPO_6_LOG'] = np.log(datos['GRUPO_6'])\n",
    "datos['GRUPO_7_LOG'] = np.log(datos['GRUPO_7'])\n",
    "datos['GRUPO_8_LOG'] = np.log(datos['GRUPO_8'])\n",
    "datos['GRUPO_9_LOG'] = np.log(datos['GRUPO_9'])\n",
    "datos['GRUPO_10_LOG'] = np.log(datos['GRUPO_10'])\n",
    "datos['PEDIDOS_TOTALES_LOG'] = np.log(datos['PEDIDOS_TOTALES'])\n",
    "\n",
    "datos['CAMBIO_PORCENTUAL_GRUPO_1'] = (datos['GRUPO_1'].pct_change(periods=1)).fillna(0)\n",
    "datos['CAMBIO_PORCENTUAL_GRUPO_2'] = (datos['GRUPO_2'].pct_change(periods=1)).fillna(0)\n",
    "datos['CAMBIO_PORCENTUAL_GRUPO_3'] = (datos['GRUPO_3'].pct_change(periods=1)).fillna(0)\n",
    "datos['CAMBIO_PORCENTUAL_GRUPO_4'] = (datos['GRUPO_4'].pct_change(periods=1)).fillna(0)\n",
    "datos['CAMBIO_PORCENTUAL_GRUPO_5'] = (datos['GRUPO_5'].pct_change(periods=1)).fillna(0)\n",
    "datos['CAMBIO_PORCENTUAL_GRUPO_6'] = (datos['GRUPO_6'].pct_change(periods=1)).fillna(0)\n",
    "datos['CAMBIO_PORCENTUAL_GRUPO_7'] = (datos['GRUPO_7'].pct_change(periods=1)).fillna(0)\n",
    "datos['CAMBIO_PORCENTUAL_GRUPO_8'] = (datos['GRUPO_8'].pct_change(periods=1)).fillna(0)\n",
    "datos['CAMBIO_PORCENTUAL_GRUPO_9'] = (datos['GRUPO_9'].pct_change(periods=1)).fillna(0)\n",
    "datos['CAMBIO_PORCENTUAL_GRUPO_10'] = (datos['GRUPO_10'].pct_change()).fillna(0)\n",
    "\n",
    "datos = datos.drop(columns=['GRUPO_1', 'GRUPO_2', 'GRUPO_3', 'GRUPO_4', 'GRUPO_5', 'GRUPO_6',\n",
    "                            'GRUPO_7', 'GRUPO_8', 'GRUPO_9', 'GRUPO_10', 'CAMPAÑA', 'PEDIDOS_TOTALES'])\n",
    "datos.head(5)\n",
    "datos.columns"
   ]
  },
  {
   "cell_type": "code",
   "execution_count": null,
   "id": "a8c3b7d0",
   "metadata": {},
   "outputs": [],
   "source": [
    "#datos = datos.drop(columns=['GRUPO_1', 'GRUPO_2', 'GRUPO_3', 'GRUPO_4', 'GRUPO_5', 'GRUPO_6',\n",
    "#                              'GRUPO_7', 'GRUPO_8', 'GRUPO_9', 'GRUPO_10'])\n",
    "#datos\n",
    "#datos.head(5)\n",
    "datos\n",
    "#datos.plot(kind='bar',x='CAMPAÑA', y='CAMBIO_PORCENTUAL_GRUPO_1',color='red')\n",
    "#datos[\"AÑO_CAMPAÑA\"].value_counts().plot(kind=\"bar\", figsize=(5, 4))\n",
    "#plt.title(\"Cambios porcentuales entre campañas\")\n",
    "#plt.show()"
   ]
  },
  {
   "cell_type": "code",
   "execution_count": 97,
   "id": "d9b1a2cf",
   "metadata": {},
   "outputs": [
    {
     "data": {
      "text/plain": [
       "<AxesSubplot:xlabel='SUMA_GRUPOS', ylabel='PEDIDOS_TOTALES'>"
      ]
     },
     "execution_count": 97,
     "metadata": {},
     "output_type": "execute_result"
    },
    {
     "data": {
      "image/png": "[encoded data removed]",
      "text/plain": [
       "<Figure size 432x288 with 1 Axes>"
      ]
     },
     "metadata": {},
     "output_type": "display_data"
    }
   ],
   "source": [
    "datos.plot(kind='scatter',x='SUMA_GRUPOS',y='PEDIDOS_TOTALES',color='red')"
   ]
  },
  {
   "cell_type": "markdown",
   "id": "32a17324",
   "metadata": {},
   "source": [
    "### Modelos de predicción\n",
    "\n",
    "Se va modelar el problema usando \n",
    "    Linear Regresion\n",
    "    -\n",
    "    -\n",
    "    -\n",
    "   \n",
    "La variables predictoras se analizaran de acuerdo al proceso de Ingeniería de Característica realizado previamente."
   ]
  },
  {
   "cell_type": "code",
   "execution_count": 334,
   "id": "3b88e04c",
   "metadata": {},
   "outputs": [
    {
     "data": {
      "text/plain": [
       "Index(['PROMEDIO_GRUPOS_LOG', 'AÑO_CAMPAÑA', 'TERCIO_AÑO_CAMPAÑA',\n",
       "       'GRUPO_1_LOG', 'GRUPO_2_LOG', 'GRUPO_3_LOG', 'GRUPO_4_LOG',\n",
       "       'GRUPO_5_LOG', 'GRUPO_6_LOG', 'GRUPO_7_LOG', 'GRUPO_8_LOG',\n",
       "       'GRUPO_9_LOG', 'GRUPO_10_LOG', 'PEDIDOS_TOTALES_LOG',\n",
       "       'CAMBIO_PORCENTUAL_GRUPO_1', 'CAMBIO_PORCENTUAL_GRUPO_2',\n",
       "       'CAMBIO_PORCENTUAL_GRUPO_3', 'CAMBIO_PORCENTUAL_GRUPO_4',\n",
       "       'CAMBIO_PORCENTUAL_GRUPO_5', 'CAMBIO_PORCENTUAL_GRUPO_6',\n",
       "       'CAMBIO_PORCENTUAL_GRUPO_7', 'CAMBIO_PORCENTUAL_GRUPO_8',\n",
       "       'CAMBIO_PORCENTUAL_GRUPO_9', 'CAMBIO_PORCENTUAL_GRUPO_10'],\n",
       "      dtype='object')"
      ]
     },
     "execution_count": 334,
     "metadata": {},
     "output_type": "execute_result"
    }
   ],
   "source": [
    "datos.columns"
   ]
  },
  {
   "cell_type": "code",
   "execution_count": 497,
   "id": "b69de1bc",
   "metadata": {},
   "outputs": [
    {
     "data": {
      "text/plain": [
       "array([10.65855667, 10.93490273, 10.83746446, 10.93947535, 10.69938924,\n",
       "       10.96615527])"
      ]
     },
     "execution_count": 497,
     "metadata": {},
     "output_type": "execute_result"
    }
   ],
   "source": [
    "X_entrenamiento, X_prueba, y_entrenamiento, y_prueba = train_test_split(\n",
    "                                        datos.drop(columns=['PEDIDOS_TOTALES_LOG']),\n",
    "                                        datos['PEDIDOS_TOTALES_LOG'],\n",
    "                                        train_size   = 0.8,\n",
    "                                        random_state = 1234,\n",
    "                                        shuffle      = True)\n",
    "\n",
    "modelo_linear_regression = LinearRegression()\n",
    "modelo_random_forest_regressor = RandomForestRegressor(max_depth=6, max_features='sqrt', n_estimators=50,n_jobs=1)\n",
    "modelo_gradient_boosting_regressor = GradientBoostingRegressor(n_estimators=60, learning_rate=0.5, max_depth=2, random_state=0)\n",
    "\n",
    "modelo_linear_regression.fit(X_entrenamiento, y_entrenamiento)\n",
    "modelo_random_forest_regressor.fit(X_entrenamiento, y_entrenamiento)\n",
    "modelo_gradient_boosting_regressor.fit(X_entrenamiento, y_entrenamiento)\n",
    "\n",
    "y_predict_linear_regression = modelo_linear_regression.predict(X_prueba)\n",
    "y_predict_random_forest_regressor = modelo_random_forest_regressor.predict(X_prueba)\n",
    "y_predict_gradient_boosting_regressor = modelo_gradient_boosting_regressor.predict(X_prueba)\n",
    "y_predict_linear_regression"
   ]
  },
  {
   "cell_type": "code",
   "execution_count": 498,
   "id": "f942699c",
   "metadata": {},
   "outputs": [
    {
     "name": "stdout",
     "output_type": "stream",
     "text": [
      "MSE 0.023422136380500776\n",
      "RMSE 0.15304292332708747\n",
      "RMSE % 15.304292332708746\n"
     ]
    }
   ],
   "source": [
    "metricas(y_prueba, y_predict_linear_regression)"
   ]
  },
  {
   "cell_type": "code",
   "execution_count": 499,
   "id": "49b7ce76",
   "metadata": {},
   "outputs": [
    {
     "name": "stdout",
     "output_type": "stream",
     "text": [
      "MSE 0.008824191113720539\n",
      "RMSE 0.09393716577436503\n",
      "RMSE % 9.393716577436503\n"
     ]
    }
   ],
   "source": [
    "metricas(y_prueba, y_predict_random_forest_regressor)"
   ]
  },
  {
   "cell_type": "code",
   "execution_count": 500,
   "id": "9da74149",
   "metadata": {},
   "outputs": [
    {
     "name": "stdout",
     "output_type": "stream",
     "text": [
      "MSE 0.008770237451390252\n",
      "RMSE 0.0936495459219651\n",
      "RMSE % 9.36495459219651\n"
     ]
    }
   ],
   "source": [
    "metricas(y_prueba, y_predict_gradient_boosting_regressor)"
   ]
  }
 ],
 "metadata": {
  "kernelspec": {
   "display_name": "Python 3",
   "language": "python",
   "name": "python3"
  },
  "language_info": {
   "codemirror_mode": {
    "name": "ipython",
    "version": 3
   },
   "file_extension": ".py",
   "mimetype": "text/x-python",
   "name": "python",
   "nbconvert_exporter": "python",
   "pygments_lexer": "ipython3",
   "version": "3.8.5"
  }
 },
 "nbformat": 4,
 "nbformat_minor": 5
}
