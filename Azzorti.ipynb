{
 "cells": [
  {
   "cell_type": "markdown",
   "id": "e2138ada",
   "metadata": {},
   "source": [
    "# Evaluación de selección para el puesto: Prácticante Preprofesional de Ciencia de Datos\n",
    "*El presente documento ha sido exportado en formato PDF desde Jupyter Notebook (localhost)*.\n",
    "\n",
    "#### Planteamiento del caso práctico\n",
    "Cierta compañía internacional de venta directa tiene un catálogo que tiene\n",
    "21 días de vida, los primeros tres días se reciben alrededor del 30% (en\n",
    "promedio) de los pedidos totales que corresponden a los 10 grupos de venta.\n",
    "\n",
    "##### ¿Qué se requiere predecir?\n",
    "Con los pedidos registrados en los primeros tres días por los 10 grupos de venta, se busca **pronosticar los pedidos totales al cierre de los\n",
    "21 días**, es decir al cierre de cada campaña.\n",
    "\n",
    "##### Pasos para encontrar la mejor solución\n",
    "Se entiende por **mejor solución** aquel modelo predictivo de Machine Learning que mejor se ajuste a los datos brindados y a las características extraidas a partir de hacer un análisis estadístico.\n",
    "\n",
    "1. Configurar el entorno de trabajo\n",
    "2. Cargar los datos (del archivo de Excel)\n",
    "3. Análisis\n",
    "    1. Análisis previo\n",
    "    2. Limpieza\n",
    "    3. Ingeniería de características\n",
    "    4. Filtrado\n",
    "4. Entrenamiento\n",
    "5. Métricas\n",
    "\n",
    "**Repositorio de la solución** : *https://github.com/felipeturing/azzorti*"
   ]
  },
  {
   "cell_type": "markdown",
   "id": "243861e6",
   "metadata": {},
   "source": [
    "###  1. Configurar el entorno de trabajo\n",
    "\n",
    "Configurar el entorno virtual (Python3 venv), instalar las librerías necesarias para luego importarlas en Python3, entre las más importantes y las más usadas son **Pandas**, **Numpy**, **Matplotlib** y **Scikit-learn**."
   ]
  },
  {
   "cell_type": "code",
   "execution_count": 130,
   "id": "dd632cce",
   "metadata": {
    "ExecuteTime": {
     "end_time": "2022-07-11T11:27:47.017399Z",
     "start_time": "2022-07-11T11:27:45.789061Z"
    }
   },
   "outputs": [
    {
     "name": "stdout",
     "output_type": "stream",
     "text": [
      "Lista de módulos de Python3 usando PIP3 en el venv azzorti-env\n",
      "Package         Version\n",
      "--------------- -------\n",
      "cycler          0.11.0 \n",
      "et-xmlfile      1.1.0  \n",
      "fonttools       4.34.4 \n",
      "joblib          1.1.0  \n",
      "kiwisolver      1.4.3  \n",
      "matplotlib      3.5.2  \n",
      "numpy           1.23.1 \n",
      "openpyxl        3.0.10 \n",
      "packaging       21.3   \n",
      "pandas          1.4.3  \n",
      "Pillow          9.2.0  \n",
      "pip             20.0.2 \n",
      "pkg-resources   0.0.0  \n",
      "pyparsing       3.0.9  \n",
      "python-dateutil 2.8.2  \n",
      "pytz            2022.1 \n",
      "scikit-learn    1.1.1  \n",
      "scipy           1.8.1  \n",
      "seaborn         0.11.2 \n",
      "setuptools      44.0.0 \n",
      "six             1.16.0 \n",
      "threadpoolctl   3.1.0  \n",
      "xlrd            2.0.1  \n"
     ]
    }
   ],
   "source": [
    "!echo \"Ubicate en tu espacio de trabajo y ejecuta las siguientes instrucciones\"\n",
    "!python3 -m venv azzorti-env\n",
    "!source azzorti-env/bin/activate\n",
    "!pip3 install numpy openpyxl pandas matplotlib seaborn scikit-learn\n",
    "!echo \"Lista de módulos de Python3 usando PIP3 en el venv azzorti-env\"\n",
    "!pip3 list"
   ]
  },
  {
   "cell_type": "markdown",
   "id": "77dfa78e",
   "metadata": {},
   "source": [
    "Ahora pasamos a importar todas las librerias necesarias para el desarrollo de la solución."
   ]
  },
  {
   "cell_type": "code",
   "execution_count": 146,
   "id": "1a09e888",
   "metadata": {
    "ExecuteTime": {
     "end_time": "2022-07-11T11:48:42.649721Z",
     "start_time": "2022-07-11T11:48:42.639364Z"
    }
   },
   "outputs": [],
   "source": [
    "import warnings\n",
    "warnings.filterwarnings(\"ignore\")\n",
    "\n",
    "import numpy as np\n",
    "import pandas as pd\n",
    "import matplotlib.pyplot as plt\n",
    "import seaborn as sns\n",
    "\n",
    "# Scikit-learn\n",
    "from sklearn.model_selection import train_test_split # Dividir entrenamiento y prueba\n",
    "from sklearn.linear_model import LinearRegression # Regresión lineal\n",
    "from sklearn.ensemble import RandomForestRegressor # Árboles aleatorios\n",
    "from sklearn.ensemble import GradientBoostingRegressor # GBoosting\n",
    "from sklearn.cluster import KMeans # Clustering\n",
    "from sklearn.metrics import mean_squared_error, r2_score, average_precision_score # Métricas\n",
    "from sklearn.preprocessing import StandardScaler, MinMaxScaler # Escalar\n",
    "\n",
    "%matplotlib inline"
   ]
  },
  {
   "cell_type": "markdown",
   "id": "57056858",
   "metadata": {},
   "source": [
    "###  2. Cargar los datos\n",
    "\n",
    "Se usa la librería Pandas para obtener un objeto de tipo pandas.DataFrame del archivo excel de datos llamado \"*Datos_201901_202009.xlsx*\". \n",
    "Además se describe los metadatos del DataFrame y se muestra las tres primeras campañas del 2019 y 2020."
   ]
  },
  {
   "cell_type": "code",
   "execution_count": 147,
   "id": "1031e03c",
   "metadata": {
    "ExecuteTime": {
     "end_time": "2022-07-11T11:48:45.588822Z",
     "start_time": "2022-07-11T11:48:45.515943Z"
    }
   },
   "outputs": [
    {
     "name": "stdout",
     "output_type": "stream",
     "text": [
      "<class 'pandas.core.frame.DataFrame'>\n",
      "RangeIndex: 27 entries, 0 to 26\n",
      "Data columns (total 12 columns):\n",
      " #   Column           Non-Null Count  Dtype\n",
      "---  ------           --------------  -----\n",
      " 0   CAMPAÑA          27 non-null     int64\n",
      " 1   GRUPO_1          27 non-null     int64\n",
      " 2   GRUPO_2          27 non-null     int64\n",
      " 3   GRUPO_3          27 non-null     int64\n",
      " 4   GRUPO_4          27 non-null     int64\n",
      " 5   GRUPO_5          27 non-null     int64\n",
      " 6   GRUPO_6          27 non-null     int64\n",
      " 7   GRUPO_7          27 non-null     int64\n",
      " 8   GRUPO_8          27 non-null     int64\n",
      " 9   GRUPO_9          27 non-null     int64\n",
      " 10  GRUPO_10         27 non-null     int64\n",
      " 11  PEDIDOS_TOTALES  27 non-null     int64\n",
      "dtypes: int64(12)\n",
      "memory usage: 2.7 KB\n",
      "CPU times: user 33.3 ms, sys: 1.2 ms, total: 34.5 ms\n",
      "Wall time: 66.9 ms\n"
     ]
    }
   ],
   "source": [
    "%%time\n",
    "datos = pd.read_excel(\"datos/Datos_201901_202009.xlsx\", index_col=None, engine=\"openpyxl\") # pandas.DataFrame\n",
    "#print(\"Metadatos del DataFrame \\n\" + datos.info().__str__())\n",
    "datos.info()\n",
    "\n",
    "# Obtener los nombres de las columnas de los grupos\n",
    "grupos = datos.columns[1:-1]"
   ]
  },
  {
   "cell_type": "markdown",
   "id": "92e01181",
   "metadata": {},
   "source": [
    "Tal cual se describe en las anotaciones entregadas, se muestra todos las variables o columnas\n",
    "1. **CAMPAÑA**: Indicador de qué campaña se trata. Los primeros cuatro dígitos hacen referencia al año y los siguientes dos dígitos a la campaña. En el año se tienen 18 campañas y cada campaña dura 21 días.\n",
    "2. **GRUPO_N**: Número de pedidos del grupo N durante los primeros 3 días.\n",
    "3. **PEDIDOS_TOTALES**: Pedidos totales al cierre de la campaña que dura 21 días, considerada la variable dependiente a predecir.\n",
    "\n",
    "Todos los tipos de datos son **int64** y no hay valores nulos desde una primera observación.\n",
    "\n",
    "A continuación mostramos cierto contenido del DataFrame, las tres primeras campañas del 2019 y 2020."
   ]
  },
  {
   "cell_type": "code",
   "execution_count": 148,
   "id": "3de3327f",
   "metadata": {
    "ExecuteTime": {
     "end_time": "2022-07-11T11:48:47.994998Z",
     "start_time": "2022-07-11T11:48:47.974841Z"
    }
   },
   "outputs": [
    {
     "data": {
      "text/html": [
       "<div>\n",
       "<style scoped>\n",
       "    .dataframe tbody tr th:only-of-type {\n",
       "        vertical-align: middle;\n",
       "    }\n",
       "\n",
       "    .dataframe tbody tr th {\n",
       "        vertical-align: top;\n",
       "    }\n",
       "\n",
       "    .dataframe thead th {\n",
       "        text-align: right;\n",
       "    }\n",
       "</style>\n",
       "<table border=\"1\" class=\"dataframe\">\n",
       "  <thead>\n",
       "    <tr style=\"text-align: right;\">\n",
       "      <th></th>\n",
       "      <th>CAMPAÑA</th>\n",
       "      <th>GRUPO_1</th>\n",
       "      <th>GRUPO_2</th>\n",
       "      <th>GRUPO_3</th>\n",
       "      <th>GRUPO_4</th>\n",
       "      <th>GRUPO_5</th>\n",
       "      <th>GRUPO_6</th>\n",
       "      <th>GRUPO_7</th>\n",
       "      <th>GRUPO_8</th>\n",
       "      <th>GRUPO_9</th>\n",
       "      <th>GRUPO_10</th>\n",
       "      <th>PEDIDOS_TOTALES</th>\n",
       "    </tr>\n",
       "  </thead>\n",
       "  <tbody>\n",
       "    <tr>\n",
       "      <th>0</th>\n",
       "      <td>201901</td>\n",
       "      <td>6492</td>\n",
       "      <td>6062</td>\n",
       "      <td>2961</td>\n",
       "      <td>1652</td>\n",
       "      <td>1190</td>\n",
       "      <td>89</td>\n",
       "      <td>31</td>\n",
       "      <td>410</td>\n",
       "      <td>15</td>\n",
       "      <td>43</td>\n",
       "      <td>54113</td>\n",
       "    </tr>\n",
       "    <tr>\n",
       "      <th>1</th>\n",
       "      <td>201902</td>\n",
       "      <td>4757</td>\n",
       "      <td>3618</td>\n",
       "      <td>2089</td>\n",
       "      <td>855</td>\n",
       "      <td>399</td>\n",
       "      <td>54</td>\n",
       "      <td>13</td>\n",
       "      <td>19</td>\n",
       "      <td>9</td>\n",
       "      <td>20</td>\n",
       "      <td>43091</td>\n",
       "    </tr>\n",
       "    <tr>\n",
       "      <th>2</th>\n",
       "      <td>201903</td>\n",
       "      <td>5047</td>\n",
       "      <td>3031</td>\n",
       "      <td>1018</td>\n",
       "      <td>309</td>\n",
       "      <td>157</td>\n",
       "      <td>63</td>\n",
       "      <td>12</td>\n",
       "      <td>7</td>\n",
       "      <td>8</td>\n",
       "      <td>10</td>\n",
       "      <td>50112</td>\n",
       "    </tr>\n",
       "    <tr>\n",
       "      <th>18</th>\n",
       "      <td>202001</td>\n",
       "      <td>6159</td>\n",
       "      <td>5611</td>\n",
       "      <td>3427</td>\n",
       "      <td>1348</td>\n",
       "      <td>210</td>\n",
       "      <td>151</td>\n",
       "      <td>39</td>\n",
       "      <td>15</td>\n",
       "      <td>23</td>\n",
       "      <td>11</td>\n",
       "      <td>48886</td>\n",
       "    </tr>\n",
       "    <tr>\n",
       "      <th>19</th>\n",
       "      <td>202002</td>\n",
       "      <td>4786</td>\n",
       "      <td>4207</td>\n",
       "      <td>1534</td>\n",
       "      <td>549</td>\n",
       "      <td>148</td>\n",
       "      <td>126</td>\n",
       "      <td>31</td>\n",
       "      <td>9</td>\n",
       "      <td>10</td>\n",
       "      <td>8</td>\n",
       "      <td>47766</td>\n",
       "    </tr>\n",
       "    <tr>\n",
       "      <th>20</th>\n",
       "      <td>202003</td>\n",
       "      <td>5935</td>\n",
       "      <td>4902</td>\n",
       "      <td>2390</td>\n",
       "      <td>481</td>\n",
       "      <td>133</td>\n",
       "      <td>146</td>\n",
       "      <td>31</td>\n",
       "      <td>19</td>\n",
       "      <td>8</td>\n",
       "      <td>16</td>\n",
       "      <td>51204</td>\n",
       "    </tr>\n",
       "  </tbody>\n",
       "</table>\n",
       "</div>"
      ],
      "text/plain": [
       "    CAMPAÑA  GRUPO_1  GRUPO_2  GRUPO_3  GRUPO_4  GRUPO_5  GRUPO_6  GRUPO_7  \\\n",
       "0    201901     6492     6062     2961     1652     1190       89       31   \n",
       "1    201902     4757     3618     2089      855      399       54       13   \n",
       "2    201903     5047     3031     1018      309      157       63       12   \n",
       "18   202001     6159     5611     3427     1348      210      151       39   \n",
       "19   202002     4786     4207     1534      549      148      126       31   \n",
       "20   202003     5935     4902     2390      481      133      146       31   \n",
       "\n",
       "    GRUPO_8  GRUPO_9  GRUPO_10  PEDIDOS_TOTALES  \n",
       "0       410       15        43            54113  \n",
       "1        19        9        20            43091  \n",
       "2         7        8        10            50112  \n",
       "18       15       23        11            48886  \n",
       "19        9       10         8            47766  \n",
       "20       19        8        16            51204  "
      ]
     },
     "execution_count": 148,
     "metadata": {},
     "output_type": "execute_result"
    }
   ],
   "source": [
    "pd.concat([datos[ datos['CAMPAÑA'] < 202000 ].head(3), \n",
    "           datos[ datos.CAMPAÑA > 202000 ].head(3)])"
   ]
  },
  {
   "cell_type": "markdown",
   "id": "ba34df44",
   "metadata": {},
   "source": [
    "###  2. Análisis\n",
    "\n",
    "En esta sección o paso de la solución se encuentra la mayor complejidad del problema, debido a que se requiere ser perspicaz y detallista con el estudio de los datos para poder encontrar relaciones y caracteríticas que permitan que los modelos de Machine Learning aplicados sean más robustos.\n",
    "\n",
    "#### 2.A Análisis previo\n",
    "Primero vamos a describir estadísticamente las variables definidas por los grupos y los pedidos_totales."
   ]
  },
  {
   "cell_type": "code",
   "execution_count": 145,
   "id": "2e649b58",
   "metadata": {
    "ExecuteTime": {
     "end_time": "2022-07-11T11:45:43.188958Z",
     "start_time": "2022-07-11T11:45:43.131521Z"
    }
   },
   "outputs": [
    {
     "data": {
      "text/html": [
       "<div>\n",
       "<style scoped>\n",
       "    .dataframe tbody tr th:only-of-type {\n",
       "        vertical-align: middle;\n",
       "    }\n",
       "\n",
       "    .dataframe tbody tr th {\n",
       "        vertical-align: top;\n",
       "    }\n",
       "\n",
       "    .dataframe thead th {\n",
       "        text-align: right;\n",
       "    }\n",
       "</style>\n",
       "<table border=\"1\" class=\"dataframe\">\n",
       "  <thead>\n",
       "    <tr style=\"text-align: right;\">\n",
       "      <th></th>\n",
       "      <th>GRUPO_1</th>\n",
       "      <th>GRUPO_2</th>\n",
       "      <th>GRUPO_3</th>\n",
       "      <th>GRUPO_4</th>\n",
       "      <th>GRUPO_5</th>\n",
       "      <th>GRUPO_6</th>\n",
       "      <th>GRUPO_7</th>\n",
       "      <th>GRUPO_8</th>\n",
       "      <th>GRUPO_9</th>\n",
       "      <th>GRUPO_10</th>\n",
       "      <th>PEDIDOS_TOTALES</th>\n",
       "    </tr>\n",
       "  </thead>\n",
       "  <tbody>\n",
       "    <tr>\n",
       "      <th>count</th>\n",
       "      <td>27.000000</td>\n",
       "      <td>27.000000</td>\n",
       "      <td>27.000000</td>\n",
       "      <td>27.000000</td>\n",
       "      <td>27.000000</td>\n",
       "      <td>27.000000</td>\n",
       "      <td>27.000000</td>\n",
       "      <td>27.000000</td>\n",
       "      <td>27.000000</td>\n",
       "      <td>27.000000</td>\n",
       "      <td>27.000000</td>\n",
       "    </tr>\n",
       "    <tr>\n",
       "      <th>mean</th>\n",
       "      <td>6423.407407</td>\n",
       "      <td>5044.185185</td>\n",
       "      <td>2922.037037</td>\n",
       "      <td>939.037037</td>\n",
       "      <td>416.074074</td>\n",
       "      <td>232.666667</td>\n",
       "      <td>33.814815</td>\n",
       "      <td>47.370370</td>\n",
       "      <td>35.444444</td>\n",
       "      <td>22.074074</td>\n",
       "      <td>55574.814815</td>\n",
       "    </tr>\n",
       "    <tr>\n",
       "      <th>std</th>\n",
       "      <td>1075.220666</td>\n",
       "      <td>998.678051</td>\n",
       "      <td>1069.612528</td>\n",
       "      <td>577.807360</td>\n",
       "      <td>412.075136</td>\n",
       "      <td>255.798148</td>\n",
       "      <td>31.527811</td>\n",
       "      <td>84.199008</td>\n",
       "      <td>87.200623</td>\n",
       "      <td>21.845482</td>\n",
       "      <td>6201.122641</td>\n",
       "    </tr>\n",
       "    <tr>\n",
       "      <th>min</th>\n",
       "      <td>4328.000000</td>\n",
       "      <td>3031.000000</td>\n",
       "      <td>1018.000000</td>\n",
       "      <td>100.000000</td>\n",
       "      <td>37.000000</td>\n",
       "      <td>36.000000</td>\n",
       "      <td>3.000000</td>\n",
       "      <td>1.000000</td>\n",
       "      <td>2.000000</td>\n",
       "      <td>6.000000</td>\n",
       "      <td>43091.000000</td>\n",
       "    </tr>\n",
       "    <tr>\n",
       "      <th>25%</th>\n",
       "      <td>5836.500000</td>\n",
       "      <td>4436.000000</td>\n",
       "      <td>2072.500000</td>\n",
       "      <td>533.500000</td>\n",
       "      <td>152.500000</td>\n",
       "      <td>81.000000</td>\n",
       "      <td>17.500000</td>\n",
       "      <td>10.000000</td>\n",
       "      <td>8.500000</td>\n",
       "      <td>11.000000</td>\n",
       "      <td>50666.000000</td>\n",
       "    </tr>\n",
       "    <tr>\n",
       "      <th>50%</th>\n",
       "      <td>6502.000000</td>\n",
       "      <td>5200.000000</td>\n",
       "      <td>3112.000000</td>\n",
       "      <td>759.000000</td>\n",
       "      <td>219.000000</td>\n",
       "      <td>136.000000</td>\n",
       "      <td>27.000000</td>\n",
       "      <td>19.000000</td>\n",
       "      <td>15.000000</td>\n",
       "      <td>15.000000</td>\n",
       "      <td>56072.000000</td>\n",
       "    </tr>\n",
       "    <tr>\n",
       "      <th>75%</th>\n",
       "      <td>7185.000000</td>\n",
       "      <td>5695.000000</td>\n",
       "      <td>3750.500000</td>\n",
       "      <td>1359.000000</td>\n",
       "      <td>517.500000</td>\n",
       "      <td>284.500000</td>\n",
       "      <td>39.500000</td>\n",
       "      <td>37.500000</td>\n",
       "      <td>23.000000</td>\n",
       "      <td>23.500000</td>\n",
       "      <td>59168.500000</td>\n",
       "    </tr>\n",
       "    <tr>\n",
       "      <th>max</th>\n",
       "      <td>8783.000000</td>\n",
       "      <td>6990.000000</td>\n",
       "      <td>4894.000000</td>\n",
       "      <td>2013.000000</td>\n",
       "      <td>1529.000000</td>\n",
       "      <td>1110.000000</td>\n",
       "      <td>172.000000</td>\n",
       "      <td>410.000000</td>\n",
       "      <td>458.000000</td>\n",
       "      <td>105.000000</td>\n",
       "      <td>66863.000000</td>\n",
       "    </tr>\n",
       "  </tbody>\n",
       "</table>\n",
       "</div>"
      ],
      "text/plain": [
       "           GRUPO_1      GRUPO_2      GRUPO_3      GRUPO_4      GRUPO_5  \\\n",
       "count    27.000000    27.000000    27.000000    27.000000    27.000000   \n",
       "mean   6423.407407  5044.185185  2922.037037   939.037037   416.074074   \n",
       "std    1075.220666   998.678051  1069.612528   577.807360   412.075136   \n",
       "min    4328.000000  3031.000000  1018.000000   100.000000    37.000000   \n",
       "25%    5836.500000  4436.000000  2072.500000   533.500000   152.500000   \n",
       "50%    6502.000000  5200.000000  3112.000000   759.000000   219.000000   \n",
       "75%    7185.000000  5695.000000  3750.500000  1359.000000   517.500000   \n",
       "max    8783.000000  6990.000000  4894.000000  2013.000000  1529.000000   \n",
       "\n",
       "           GRUPO_6     GRUPO_7     GRUPO_8     GRUPO_9    GRUPO_10  \\\n",
       "count    27.000000   27.000000   27.000000   27.000000   27.000000   \n",
       "mean    232.666667   33.814815   47.370370   35.444444   22.074074   \n",
       "std     255.798148   31.527811   84.199008   87.200623   21.845482   \n",
       "min      36.000000    3.000000    1.000000    2.000000    6.000000   \n",
       "25%      81.000000   17.500000   10.000000    8.500000   11.000000   \n",
       "50%     136.000000   27.000000   19.000000   15.000000   15.000000   \n",
       "75%     284.500000   39.500000   37.500000   23.000000   23.500000   \n",
       "max    1110.000000  172.000000  410.000000  458.000000  105.000000   \n",
       "\n",
       "       PEDIDOS_TOTALES  \n",
       "count        27.000000  \n",
       "mean      55574.814815  \n",
       "std        6201.122641  \n",
       "min       43091.000000  \n",
       "25%       50666.000000  \n",
       "50%       56072.000000  \n",
       "75%       59168.500000  \n",
       "max       66863.000000  "
      ]
     },
     "execution_count": 145,
     "metadata": {},
     "output_type": "execute_result"
    }
   ],
   "source": [
    "datos[datos.columns[1:]].describe()"
   ]
  },
  {
   "cell_type": "markdown",
   "id": "59bbbba2",
   "metadata": {},
   "source": [
    "Se observa que generalmente la media va disminuyendo en los grupos desde el GRUPO_1 hasta el GRUPO_10. Además los tres primeros grupos son los que aportan más pedidos a los PEDIDOS_TOTALES, seguramente por influencia de otra variables como la región, zona, localidad, estrategias más efectivas de ventas por catálogo, Por influencia personal, entre otras características que se escapan de este estudio.\n",
    "\n",
    "Además la mediana (el percentil 50%) se aproxima en muchos grupos a la media, esto puede dar a entender que se puede aproximar a una distribución normal, debemos comprobarlo visualmente con las gráficas de distribuciones de las variables."
   ]
  },
  {
   "cell_type": "code",
   "execution_count": null,
   "id": "deeb4538",
   "metadata": {},
   "outputs": [],
   "source": [
    "#ax = datos['GRUPO_1_LOG'].plot.hist(bins=12, alpha=0.5)\n",
    "#datos.columns"
   ]
  },
  {
   "cell_type": "code",
   "execution_count": null,
   "id": "42865e66",
   "metadata": {},
   "outputs": [],
   "source": [
    "#datos.head(5) # Primeras 5 campañas del 2019\n",
    "#datos.columns # Listar las columnas\n",
    "#datos.info() # Lista de metadatos del DataFrame\n",
    "#datos[\"PEDIDOS_TOTALES\"].describe() # Estadística descriptiva básica de la columna PEDIDOS_TOTALES\n",
    "#datos[ datos.CAMPAÑA < 202000 ].head(5)# Primeras 5 campañas del 2020\n",
    "\n",
    "## Gráfico para relacionar variables\n",
    "#datos.plot(kind='scatter',x='GRUPO_1',y='GRUPO_2',color='red')\n",
    "#plt.show()\n",
    "\n",
    "#fig, ax = plt.subplots(figsize = (15, 10))\n",
    "#sns.heatmap(datos.corr(), annot=True, ax=ax)\n",
    "#plt.show()\n",
    "\n",
    "#df = pd.DataFrame(\n",
    "#    np.random.randint(1, 7, 6000),\n",
    "#    columns = ['one'])\n",
    "#df['two'] = df['one'] + np.random.randint(1, 7, 6000)"
   ]
  },
  {
   "cell_type": "code",
   "execution_count": null,
   "id": "9e6dff5a",
   "metadata": {},
   "outputs": [],
   "source": [
    "#datos.plot(kind='bar',x='CAMPAÑA', y='CAMBIO_PORCENTUAL_GRUPO_1',color='red')\n",
    "\n",
    "\n",
    "#datos[\"AÑO_CAMPAÑA\"].value_counts().plot(kind=\"bar\", figsize=(5, 4))\n",
    "#plt.title(\"Cambios porcentuales entre campañas\")\n",
    "#plt.show()"
   ]
  },
  {
   "cell_type": "code",
   "execution_count": 676,
   "id": "c03db27a",
   "metadata": {},
   "outputs": [
    {
     "name": "stdout",
     "output_type": "stream",
     "text": [
      "CPU times: user 19.7 ms, sys: 0 ns, total: 19.7 ms\n",
      "Wall time: 20.3 ms\n"
     ]
    }
   ],
   "source": [
    "%%time\n",
    "suma_grupos = datos['GRUPO_1'] + datos['GRUPO_2'] + datos['GRUPO_3'] + datos['GRUPO_4'] + datos['GRUPO_5'] + datos['GRUPO_6'] + datos['GRUPO_7'] + datos['GRUPO_8'] + datos['GRUPO_9'] + datos['GRUPO_10']\n",
    "datos['PROMEDIO_GRUPOS_LOG'] = np.log( suma_grupos / 10 )\n",
    "\n",
    "datos['AÑO_CAMPAÑA'] = datos['CAMPAÑA'] // 100\n",
    "datos['TERCIO_AÑO_CAMPAÑA'] = (datos['CAMPAÑA'] % 100) // 3 # Falta optimizar esta característica\n",
    "\n",
    "datos['GRUPO_1_LOG'] = np.log(datos['GRUPO_1'])\n",
    "datos['GRUPO_2_LOG'] = np.log(datos['GRUPO_2'])\n",
    "datos['GRUPO_3_LOG'] = np.log(datos['GRUPO_3'])\n",
    "datos['GRUPO_4_LOG'] = np.log(datos['GRUPO_4'])\n",
    "datos['GRUPO_5_LOG'] = np.log(datos['GRUPO_5'])\n",
    "datos['GRUPO_6_LOG'] = np.log(datos['GRUPO_6'])\n",
    "datos['GRUPO_7_LOG'] = np.log(datos['GRUPO_7'])\n",
    "datos['GRUPO_8_LOG'] = np.log(datos['GRUPO_8'])\n",
    "datos['GRUPO_9_LOG'] = np.log(datos['GRUPO_9'])\n",
    "datos['GRUPO_10_LOG'] = np.log(datos['GRUPO_10'])\n",
    "datos['PEDIDOS_TOTALES_LOG'] = np.log(datos['PEDIDOS_TOTALES'])\n",
    "\n",
    "datos['CAMBIO_PORCENTUAL_GRUPO_1'] = (datos['GRUPO_1'].pct_change(periods=1)).fillna(0)\n",
    "datos['CAMBIO_PORCENTUAL_GRUPO_2'] = (datos['GRUPO_2'].pct_change(periods=1)).fillna(0)\n",
    "datos['CAMBIO_PORCENTUAL_GRUPO_3'] = (datos['GRUPO_3'].pct_change(periods=1)).fillna(0)\n",
    "datos['CAMBIO_PORCENTUAL_GRUPO_4'] = (datos['GRUPO_4'].pct_change(periods=1)).fillna(0)\n",
    "datos['CAMBIO_PORCENTUAL_GRUPO_5'] = (datos['GRUPO_5'].pct_change(periods=1)).fillna(0)\n",
    "datos['CAMBIO_PORCENTUAL_GRUPO_6'] = (datos['GRUPO_6'].pct_change(periods=1)).fillna(0)\n",
    "datos['CAMBIO_PORCENTUAL_GRUPO_7'] = (datos['GRUPO_7'].pct_change(periods=1)).fillna(0)\n",
    "datos['CAMBIO_PORCENTUAL_GRUPO_8'] = (datos['GRUPO_8'].pct_change(periods=1)).fillna(0)\n",
    "datos['CAMBIO_PORCENTUAL_GRUPO_9'] = (datos['GRUPO_9'].pct_change(periods=1)).fillna(0)\n",
    "datos['CAMBIO_PORCENTUAL_GRUPO_10'] = (datos['GRUPO_10'].pct_change()).fillna(0)\n",
    "\n",
    "#datos = datos.drop(columns=['GRUPO_1', 'GRUPO_2', 'GRUPO_3', 'GRUPO_4', 'GRUPO_5', 'GRUPO_6',\n",
    "#                            'GRUPO_7', 'GRUPO_8', 'GRUPO_9', 'GRUPO_10', 'CAMPAÑA', 'PEDIDOS_TOTALES'])\n",
    "#datos.drop(columns=['GRUPO_1', 'GRUPO_2', 'GRUPO_3', 'GRUPO_4', 'GRUPO_5', 'GRUPO_6',\n",
    "#                            'GRUPO_7', 'GRUPO_8', 'GRUPO_9', 'GRUPO_10', 'CAMPAÑA', 'PEDIDOS_TOTALES'], inplace=True)\n",
    "\n",
    "#escalador_estandarizado = StandardScaler()\n",
    "#datos = pd.DataFrame(escalador_estandarizado.fit_transform(datos)) # Escalado\n",
    "#datos.head(5)\n",
    "#ax = datos['GRUPO_1_LOG'].plot.hist(bins=12, alpha=0.5)\n",
    "#datos.columns"
   ]
  },
  {
   "cell_type": "code",
   "execution_count": 651,
   "id": "971973a1",
   "metadata": {
    "scrolled": false
   },
   "outputs": [],
   "source": []
  },
  {
   "cell_type": "code",
   "execution_count": 667,
   "id": "d9b1a2cf",
   "metadata": {},
   "outputs": [],
   "source": [
    "#datos.plot(kind='scatter',x='SUMA_GRUPOS',y='PEDIDOS_TOTALES',color='red')"
   ]
  },
  {
   "cell_type": "markdown",
   "id": "dfd826cc",
   "metadata": {},
   "source": [
    "### Modelos de predicción\n",
    "\n",
    "Se va modelar el problema usando \n",
    "    Linear Regresion\n",
    "    -\n",
    "    -\n",
    "    -\n",
    "   \n",
    "La variables predictoras se analizaran de acuerdo al proceso de Ingeniería de Característica realizado previamente."
   ]
  },
  {
   "cell_type": "code",
   "execution_count": 686,
   "id": "da272de7",
   "metadata": {},
   "outputs": [],
   "source": [
    "predictores = ['GRUPO_1_LOG', 'GRUPO_2_LOG', 'GRUPO_3_LOG', 'GRUPO_4_LOG', 'GRUPO_5_LOG', 'GRUPO_6_LOG',\n",
    "               'GRUPO_7_LOG', 'GRUPO_8_LOG', 'GRUPO_9_LOG', 'GRUPO_10_LOG', 'TERCIO_AÑO_CAMPAÑA',\n",
    "               'PROMEDIO_GRUPOS_LOG', 'CAMBIO_PORCENTUAL_GRUPO_1', 'CAMBIO_PORCENTUAL_GRUPO_1',\n",
    "               'CAMBIO_PORCENTUAL_GRUPO_1', 'CAMBIO_PORCENTUAL_GRUPO_2', 'CAMBIO_PORCENTUAL_GRUPO_3',\n",
    "               'CAMBIO_PORCENTUAL_GRUPO_4', 'CAMBIO_PORCENTUAL_GRUPO_5', 'CAMBIO_PORCENTUAL_GRUPO_6',\n",
    "               'CAMBIO_PORCENTUAL_GRUPO_7', 'CAMBIO_PORCENTUAL_GRUPO_8', 'CAMBIO_PORCENTUAL_GRUPO_9',\n",
    "               'CAMBIO_PORCENTUAL_GRUPO_10']\n",
    "\n",
    "prediccion = 'PEDIDOS_TOTALES_LOG'\n",
    "\n",
    "X = datos[predictores]\n",
    "y = datos[prediccion]\n",
    "\n",
    "#ESTANDARIZANDO\n",
    "#scaler = MinMaxScaler()\n",
    "scaler = StandardScaler()\n",
    "X = scaler.fit_transform(X)"
   ]
  },
  {
   "cell_type": "code",
   "execution_count": 687,
   "id": "43a657e4",
   "metadata": {},
   "outputs": [
    {
     "data": {
      "text/plain": [
       "array([10.71274406, 10.96247113, 10.82521084, 10.91526498, 10.60005471,\n",
       "       10.96643676])"
      ]
     },
     "execution_count": 687,
     "metadata": {},
     "output_type": "execute_result"
    }
   ],
   "source": [
    "X_entrenamiento, X_prueba, y_entrenamiento, y_prueba = train_test_split( X, y, \n",
    "                                                                        train_size   = 0.8,\n",
    "                                                                        random_state = 1234,\n",
    "                                                                        shuffle      = True)\n",
    "\n",
    "modelo_linear_regression = LinearRegression()\n",
    "modelo_random_forest_regressor = RandomForestRegressor(max_depth=6, max_features='sqrt', n_estimators=50,n_jobs=1)\n",
    "modelo_gradient_boosting_regressor = GradientBoostingRegressor(n_estimators=60, learning_rate=0.5, max_depth=2, random_state=0)\n",
    "\n",
    "modelo_linear_regression.fit(X_entrenamiento, y_entrenamiento)\n",
    "modelo_random_forest_regressor.fit(X_entrenamiento, y_entrenamiento)\n",
    "modelo_gradient_boosting_regressor.fit(X_entrenamiento, y_entrenamiento)\n",
    "\n",
    "y_predict_linear_regression = modelo_linear_regression.predict(X_prueba)\n",
    "y_predict_random_forest_regressor = modelo_random_forest_regressor.predict(X_prueba)\n",
    "y_predict_gradient_boosting_regressor = modelo_gradient_boosting_regressor.predict(X_prueba)\n",
    "y_predict_linear_regression"
   ]
  },
  {
   "cell_type": "code",
   "execution_count": 4,
   "id": "3c240e17",
   "metadata": {
    "ExecuteTime": {
     "end_time": "2022-07-11T09:51:27.503437Z",
     "start_time": "2022-07-11T09:51:27.496929Z"
    }
   },
   "outputs": [],
   "source": [
    "def metricas(y_test, y_pred):\n",
    "    r2score = r2_score(y_test, y_pred)\n",
    "    mse = mean_squared_error(y_test, y_pred)\n",
    "    rmse = np.sqrt(mean_squared_error(y_test, y_pred))\n",
    "    print(\"MSE\", mse)\n",
    "    print(\"RMSE\", rmse)\n",
    "    print(\"RMSE %\", rmse * 100)\n",
    "    #print(\"R2\", r2score)\n",
    "    #print(\"R2 %\", r2score * 100)"
   ]
  },
  {
   "cell_type": "code",
   "execution_count": 688,
   "id": "8d2f0057",
   "metadata": {},
   "outputs": [
    {
     "name": "stdout",
     "output_type": "stream",
     "text": [
      "MSE 0.03178465813037365\n",
      "RMSE 0.1782825233453174\n",
      "RMSE % 17.82825233453174\n"
     ]
    }
   ],
   "source": [
    "metricas(y_prueba, y_predict_linear_regression)"
   ]
  },
  {
   "cell_type": "code",
   "execution_count": 689,
   "id": "3718a5c8",
   "metadata": {},
   "outputs": [
    {
     "name": "stdout",
     "output_type": "stream",
     "text": [
      "MSE 0.00956724275714423\n",
      "RMSE 0.09781228326311696\n",
      "RMSE % 9.781228326311696\n"
     ]
    }
   ],
   "source": [
    "metricas(y_prueba, y_predict_random_forest_regressor)"
   ]
  },
  {
   "cell_type": "code",
   "execution_count": 690,
   "id": "711193de",
   "metadata": {},
   "outputs": [
    {
     "name": "stdout",
     "output_type": "stream",
     "text": [
      "MSE 0.010959876807587672\n",
      "RMSE 0.10468943025725029\n",
      "RMSE % 10.468943025725029\n"
     ]
    }
   ],
   "source": [
    "metricas(y_prueba, y_predict_gradient_boosting_regressor)"
   ]
  },
  {
   "cell_type": "code",
   "execution_count": 521,
   "id": "2a03c47c",
   "metadata": {},
   "outputs": [
    {
     "name": "stdout",
     "output_type": "stream",
     "text": [
      "[[1.0e+02 1.0e-03]\n",
      " [8.0e+00 5.0e-02]\n",
      " [5.0e+01 5.0e-03]\n",
      " [8.8e+01 7.0e-02]\n",
      " [4.0e+00 1.0e-01]]\n",
      "[[1.         0.        ]\n",
      " [0.04166667 0.49494949]\n",
      " [0.47916667 0.04040404]\n",
      " [0.875      0.6969697 ]\n",
      " [0.         1.        ]]\n"
     ]
    }
   ],
   "source": [
    "# example of a normalization\n",
    "from numpy import asarray\n",
    "from sklearn.preprocessing import MinMaxScaler\n",
    "# define data\n",
    "data = asarray([[100, 0.001],\n",
    "                [8, 0.05],\n",
    "                [50, 0.005],\n",
    "                [88, 0.07],\n",
    "                [4, 0.1]])\n",
    "print(data)\n",
    "# define min max scaler\n",
    "scaler = MinMaxScaler()\n",
    "# transform data\n",
    "scaled = scaler.fit_transform(data)\n",
    "print(scaled)"
   ]
  }
 ],
 "metadata": {
  "kernelspec": {
   "display_name": "Python 3",
   "language": "python",
   "name": "python3"
  },
  "language_info": {
   "codemirror_mode": {
    "name": "ipython",
    "version": 3
   },
   "file_extension": ".py",
   "mimetype": "text/x-python",
   "name": "python",
   "nbconvert_exporter": "python",
   "pygments_lexer": "ipython3",
   "version": "3.8.5"
  }
 },
 "nbformat": 4,
 "nbformat_minor": 5
}
