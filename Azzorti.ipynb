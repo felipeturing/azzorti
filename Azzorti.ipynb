{
 "cells": [
  {
   "cell_type": "markdown",
   "id": "e2138ada",
   "metadata": {},
   "source": [
    "# Evaluación de selección para el puesto: Prácticante Preprofesional de Ciencia de Datos\n",
    "\n",
    "**Postulante**: Walter Jesús Felipe Tolentino - DNI 74166745 (@felipturing GitHub)\n",
    "\n",
    "*El presente documento ha sido exportado en formato PDF desde Jupyter Notebook (localhost)*.\n",
    "\n",
    "#### Planteamiento del caso práctico:\n",
    "\n",
    "Cierta compañía internacional de venta directa tiene un catálogo que tiene\n",
    "21 días de vida, los primeros tres días se reciben alrededor del 30% (en\n",
    "promedio) de los pedidos totales que corresponden a los 10 grupos de venta.\n",
    "\n",
    "##### ¿Qué se requiere predecir? \n",
    "\n",
    "Con los pedidos registrados en los primeros tres días por los 10 grupos de venta, se busca **pronosticar los pedidos totales al cierre de los\n",
    "21 días**, es decir al cierre de cada campaña.\n",
    "\n",
    "##### Pasos para encontrar la mejor solución:\n",
    "\n",
    "Se entiende por **mejor solución** aquel modelo predictivo de Machine Learning que mejor se ajuste a los datos brindados y a las características extraidas a partir de hacer un análisis estadístico.\n",
    "\n",
    "1. Configurar el entorno de trabajo\n",
    "2. Cargar los datos (del archivo de Excel)\n",
    "3. Análisis\n",
    "    1. Limpieza y análisis general\n",
    "    2. Ingeniería de características\n",
    "4. Entrenamiento y métricas\n",
    "5. Conclusiones\n",
    "6. Trabajos futuros\n",
    "\n",
    "**Repositorio de la solución** : *https://github.com/felipeturing/azzorti*"
   ]
  },
  {
   "cell_type": "markdown",
   "id": "243861e6",
   "metadata": {},
   "source": [
    "###  1. Configurar el entorno de trabajo\n",
    "\n",
    "Configurar el entorno virtual (Python3 venv), instalar las librerías necesarias para luego importarlas en Python3, entre las más importantes y las más usadas son **Pandas**, **Numpy**, **Matplotlib** y **Scikit-learn**.\n",
    "\n",
    "A continuación una lista de instrucciones que me va permitir configurar mi entorno virtual de trabajo en Python3 y el repositorio remoto en GitHub."
   ]
  },
  {
   "cell_type": "code",
   "execution_count": 150,
   "id": "2a223f7a",
   "metadata": {
    "ExecuteTime": {
     "end_time": "2022-07-11T11:59:55.092281Z",
     "start_time": "2022-07-11T11:59:53.862296Z"
    }
   },
   "outputs": [
    {
     "name": "stdout",
     "output_type": "stream",
     "text": [
      "Lista de módulos de Python3 usando PIP3 en el venv azzorti-env\n",
      "Package         Version\n",
      "--------------- -------\n",
      "cycler          0.11.0 \n",
      "et-xmlfile      1.1.0  \n",
      "fonttools       4.34.4 \n",
      "joblib          1.1.0  \n",
      "kiwisolver      1.4.3  \n",
      "matplotlib      3.5.2  \n",
      "numpy           1.23.1 \n",
      "openpyxl        3.0.10 \n",
      "packaging       21.3   \n",
      "pandas          1.4.3  \n",
      "Pillow          9.2.0  \n",
      "pip             20.0.2 \n",
      "pkg-resources   0.0.0  \n",
      "pyparsing       3.0.9  \n",
      "python-dateutil 2.8.2  \n",
      "pytz            2022.1 \n",
      "scikit-learn    1.1.1  \n",
      "scipy           1.8.1  \n",
      "seaborn         0.11.2 \n",
      "setuptools      44.0.0 \n",
      "six             1.16.0 \n",
      "threadpoolctl   3.1.0  \n",
      "xlrd            2.0.1  \n"
     ]
    }
   ],
   "source": [
    "!cd ~/workspace/azzorti\n",
    "!git clone github https://{user}:{token}github.com/felipeturing/azzorti .\n",
    "!python3 -m venv azzorti-env\n",
    "!source azzorti-env/bin/activate\n",
    "!pip3 install numpy openpyxl pandas matplotlib seaborn scikit-learn\n",
    "!echo \"Lista de módulos de Python3 usando PIP3 en el venv azzorti-env\"\n",
    "!pip3 list"
   ]
  },
  {
   "cell_type": "markdown",
   "id": "1ef812d9",
   "metadata": {},
   "source": [
    "Ahora pasamos a importar todas las librerias necesarias para el desarrollo de la solución."
   ]
  },
  {
   "cell_type": "code",
   "execution_count": 151,
   "id": "1a09e888",
   "metadata": {
    "ExecuteTime": {
     "end_time": "2022-07-11T11:59:59.903285Z",
     "start_time": "2022-07-11T11:59:59.892153Z"
    }
   },
   "outputs": [],
   "source": [
    "import warnings\n",
    "warnings.filterwarnings(\"ignore\")\n",
    "\n",
    "import numpy as np\n",
    "import pandas as pd\n",
    "import matplotlib.pyplot as plt\n",
    "import seaborn as sns\n",
    "\n",
    "# Scikit-learn\n",
    "from sklearn.model_selection import train_test_split # Dividir entrenamiento y prueba\n",
    "from sklearn.linear_model import LinearRegression # Regresión lineal\n",
    "from sklearn.ensemble import RandomForestRegressor # Árboles aleatorios\n",
    "from sklearn.ensemble import GradientBoostingRegressor # GBoosting\n",
    "from sklearn.cluster import KMeans # Clustering\n",
    "from sklearn.metrics import mean_squared_error, r2_score, average_precision_score\n",
    "from sklearn.preprocessing import StandardScaler, MinMaxScaler # Escalar\n",
    "\n",
    "%matplotlib inline"
   ]
  },
  {
   "cell_type": "markdown",
   "id": "6569e878",
   "metadata": {},
   "source": [
    "###  2. Cargar los datos\n",
    "\n",
    "Se usa la librería Pandas para obtener un objeto de tipo pandas.DataFrame del archivo excel de datos llamado \"*Datos_201901_202009.xlsx*\". \n",
    "Además se describe los metadatos del DataFrame y se muestra las tres primeras campañas del 2019 y 2020."
   ]
  },
  {
   "cell_type": "code",
   "execution_count": 303,
   "id": "1031e03c",
   "metadata": {
    "ExecuteTime": {
     "end_time": "2022-07-11T13:59:39.441818Z",
     "start_time": "2022-07-11T13:59:39.401978Z"
    }
   },
   "outputs": [
    {
     "name": "stdout",
     "output_type": "stream",
     "text": [
      "<class 'pandas.core.frame.DataFrame'>\n",
      "RangeIndex: 27 entries, 0 to 26\n",
      "Data columns (total 12 columns):\n",
      " #   Column           Non-Null Count  Dtype\n",
      "---  ------           --------------  -----\n",
      " 0   CAMPAÑA          27 non-null     int64\n",
      " 1   GRUPO_1          27 non-null     int64\n",
      " 2   GRUPO_2          27 non-null     int64\n",
      " 3   GRUPO_3          27 non-null     int64\n",
      " 4   GRUPO_4          27 non-null     int64\n",
      " 5   GRUPO_5          27 non-null     int64\n",
      " 6   GRUPO_6          27 non-null     int64\n",
      " 7   GRUPO_7          27 non-null     int64\n",
      " 8   GRUPO_8          27 non-null     int64\n",
      " 9   GRUPO_9          27 non-null     int64\n",
      " 10  GRUPO_10         27 non-null     int64\n",
      " 11  PEDIDOS_TOTALES  27 non-null     int64\n",
      "dtypes: int64(12)\n",
      "memory usage: 2.7 KB\n",
      "CPU times: user 29.8 ms, sys: 91 µs, total: 29.9 ms\n",
      "Wall time: 33.4 ms\n"
     ]
    }
   ],
   "source": [
    "%%time\n",
    "datos = pd.read_excel(\"datos/Datos_201901_202009.xlsx\", index_col=None, engine=\"openpyxl\")\n",
    "#print(\"Metadatos del DataFrame \\n\" + datos.info().__str__())\n",
    "datos.info()\n",
    "\n",
    "# Obtener los nombres de las columnas para una manipulación más suave posteriormente\n",
    "grupos, campania, pedidos_totales = datos.columns[1:-1], datos.columns[0], datos.columns[-1]"
   ]
  },
  {
   "cell_type": "markdown",
   "id": "7539cbbf",
   "metadata": {},
   "source": [
    "Se muestra todos las variables o columnas\n",
    "1. **CAMPAÑA**: Indicador de qué campaña se trata. Los primeros cuatro dígitos hacen referencia al año y los siguientes dos dígitos a la campaña. En el año se tienen 18 campañas y cada campaña dura 21 días.\n",
    "2. **GRUPO_N**: Número de pedidos del grupo N durante los primeros 3 días.\n",
    "3. **PEDIDOS_TOTALES**: Pedidos totales al cierre de la campaña que dura 21 días, considerada la variable dependiente a predecir.\n",
    "\n",
    "Todos los tipos de datos que considero Pandas son **int64** y no hay valores nulos desde una primera observación en todos los 27 registros.\n",
    "\n",
    "A continuación mostramos cierto contenido del DataFrame, las tres primeras campañas del 2019 y 2020."
   ]
  },
  {
   "cell_type": "code",
   "execution_count": 239,
   "id": "fe812e07",
   "metadata": {
    "ExecuteTime": {
     "end_time": "2022-07-11T13:14:30.356976Z",
     "start_time": "2022-07-11T13:14:30.342461Z"
    }
   },
   "outputs": [
    {
     "data": {
      "text/html": [
       "<div>\n",
       "<style scoped>\n",
       "    .dataframe tbody tr th:only-of-type {\n",
       "        vertical-align: middle;\n",
       "    }\n",
       "\n",
       "    .dataframe tbody tr th {\n",
       "        vertical-align: top;\n",
       "    }\n",
       "\n",
       "    .dataframe thead th {\n",
       "        text-align: right;\n",
       "    }\n",
       "</style>\n",
       "<table border=\"1\" class=\"dataframe\">\n",
       "  <thead>\n",
       "    <tr style=\"text-align: right;\">\n",
       "      <th></th>\n",
       "      <th>CAMPAÑA</th>\n",
       "      <th>GRUPO_1</th>\n",
       "      <th>GRUPO_2</th>\n",
       "      <th>GRUPO_3</th>\n",
       "      <th>GRUPO_4</th>\n",
       "      <th>GRUPO_5</th>\n",
       "      <th>GRUPO_6</th>\n",
       "      <th>GRUPO_7</th>\n",
       "      <th>GRUPO_8</th>\n",
       "      <th>GRUPO_9</th>\n",
       "      <th>GRUPO_10</th>\n",
       "      <th>PEDIDOS_TOTALES</th>\n",
       "    </tr>\n",
       "  </thead>\n",
       "  <tbody>\n",
       "    <tr>\n",
       "      <th>0</th>\n",
       "      <td>201901</td>\n",
       "      <td>6492</td>\n",
       "      <td>6062</td>\n",
       "      <td>2961</td>\n",
       "      <td>1652</td>\n",
       "      <td>1190</td>\n",
       "      <td>89</td>\n",
       "      <td>31</td>\n",
       "      <td>410</td>\n",
       "      <td>15</td>\n",
       "      <td>43</td>\n",
       "      <td>54113</td>\n",
       "    </tr>\n",
       "    <tr>\n",
       "      <th>1</th>\n",
       "      <td>201902</td>\n",
       "      <td>4757</td>\n",
       "      <td>3618</td>\n",
       "      <td>2089</td>\n",
       "      <td>855</td>\n",
       "      <td>399</td>\n",
       "      <td>54</td>\n",
       "      <td>13</td>\n",
       "      <td>19</td>\n",
       "      <td>9</td>\n",
       "      <td>20</td>\n",
       "      <td>43091</td>\n",
       "    </tr>\n",
       "    <tr>\n",
       "      <th>2</th>\n",
       "      <td>201903</td>\n",
       "      <td>5047</td>\n",
       "      <td>3031</td>\n",
       "      <td>1018</td>\n",
       "      <td>309</td>\n",
       "      <td>157</td>\n",
       "      <td>63</td>\n",
       "      <td>12</td>\n",
       "      <td>7</td>\n",
       "      <td>8</td>\n",
       "      <td>10</td>\n",
       "      <td>50112</td>\n",
       "    </tr>\n",
       "    <tr>\n",
       "      <th>18</th>\n",
       "      <td>202001</td>\n",
       "      <td>6159</td>\n",
       "      <td>5611</td>\n",
       "      <td>3427</td>\n",
       "      <td>1348</td>\n",
       "      <td>210</td>\n",
       "      <td>151</td>\n",
       "      <td>39</td>\n",
       "      <td>15</td>\n",
       "      <td>23</td>\n",
       "      <td>11</td>\n",
       "      <td>48886</td>\n",
       "    </tr>\n",
       "    <tr>\n",
       "      <th>19</th>\n",
       "      <td>202002</td>\n",
       "      <td>4786</td>\n",
       "      <td>4207</td>\n",
       "      <td>1534</td>\n",
       "      <td>549</td>\n",
       "      <td>148</td>\n",
       "      <td>126</td>\n",
       "      <td>31</td>\n",
       "      <td>9</td>\n",
       "      <td>10</td>\n",
       "      <td>8</td>\n",
       "      <td>47766</td>\n",
       "    </tr>\n",
       "    <tr>\n",
       "      <th>20</th>\n",
       "      <td>202003</td>\n",
       "      <td>5935</td>\n",
       "      <td>4902</td>\n",
       "      <td>2390</td>\n",
       "      <td>481</td>\n",
       "      <td>133</td>\n",
       "      <td>146</td>\n",
       "      <td>31</td>\n",
       "      <td>19</td>\n",
       "      <td>8</td>\n",
       "      <td>16</td>\n",
       "      <td>51204</td>\n",
       "    </tr>\n",
       "  </tbody>\n",
       "</table>\n",
       "</div>"
      ],
      "text/plain": [
       "    CAMPAÑA  GRUPO_1  GRUPO_2  GRUPO_3  GRUPO_4  GRUPO_5  GRUPO_6  GRUPO_7  \\\n",
       "0    201901     6492     6062     2961     1652     1190       89       31   \n",
       "1    201902     4757     3618     2089      855      399       54       13   \n",
       "2    201903     5047     3031     1018      309      157       63       12   \n",
       "18   202001     6159     5611     3427     1348      210      151       39   \n",
       "19   202002     4786     4207     1534      549      148      126       31   \n",
       "20   202003     5935     4902     2390      481      133      146       31   \n",
       "\n",
       "    GRUPO_8  GRUPO_9  GRUPO_10  PEDIDOS_TOTALES  \n",
       "0       410       15        43            54113  \n",
       "1        19        9        20            43091  \n",
       "2         7        8        10            50112  \n",
       "18       15       23        11            48886  \n",
       "19        9       10         8            47766  \n",
       "20       19        8        16            51204  "
      ]
     },
     "execution_count": 239,
     "metadata": {},
     "output_type": "execute_result"
    }
   ],
   "source": [
    "pd.concat([datos[ datos[campania] < 202000 ].head(3), \n",
    "           datos[ datos[campania] > 202000 ].head(3)])\n",
    "#pd.concat([datos[ datos['CAMPAÑA'] < 202000 ].head(3),\n",
    "#           datos[ datos.CAMPAÑA > 202000 ].head(3)])"
   ]
  },
  {
   "cell_type": "markdown",
   "id": "49974504",
   "metadata": {},
   "source": [
    "###  3. Análisis\n",
    "\n",
    "En esta sección o paso de la solución se encuentra la mayor complejidad del problema, debido a que se requiere ser perspicaz y detallista con el estudio de los datos para poder encontrar relaciones y caracteríticas que permitan que los modelos de Machine Learning aplicados sean más robustos.\n",
    "\n",
    "#### 3.A Limpieza y análisis general\n",
    "Para realizar la limpieza primero tenemos que encontrar los valores NaN de los datos, luego, o bien igualarlos a cero, colocar promedios, seguir la misma distribución de los demás valores de la variable o bien cualquier otra técnica que no agregué más incertidumbre en los análisis posteriores."
   ]
  },
  {
   "cell_type": "code",
   "execution_count": 230,
   "id": "2727b790",
   "metadata": {
    "ExecuteTime": {
     "end_time": "2022-07-11T12:58:51.537008Z",
     "start_time": "2022-07-11T12:58:51.529318Z"
    }
   },
   "outputs": [
    {
     "data": {
      "text/plain": [
       "CAMPAÑA            0\n",
       "GRUPO_1            0\n",
       "GRUPO_2            0\n",
       "GRUPO_3            0\n",
       "GRUPO_4            0\n",
       "GRUPO_5            0\n",
       "GRUPO_6            0\n",
       "GRUPO_7            0\n",
       "GRUPO_8            0\n",
       "GRUPO_9            0\n",
       "GRUPO_10           0\n",
       "PEDIDOS_TOTALES    0\n",
       "dtype: int64"
      ]
     },
     "execution_count": 230,
     "metadata": {},
     "output_type": "execute_result"
    }
   ],
   "source": [
    "datos.isna().sum()"
   ]
  },
  {
   "cell_type": "markdown",
   "id": "8ee19030",
   "metadata": {},
   "source": [
    "Ahora como ya se sabe que todos los valores de las variables están \"limpios\", vamos a describir estadísticamente las variables definidas por los grupos y los pedidos_totales, sin miedo alguno."
   ]
  },
  {
   "cell_type": "code",
   "execution_count": 244,
   "id": "5d55c36e",
   "metadata": {
    "ExecuteTime": {
     "end_time": "2022-07-11T13:15:22.752306Z",
     "start_time": "2022-07-11T13:15:22.694183Z"
    }
   },
   "outputs": [
    {
     "name": "stdout",
     "output_type": "stream",
     "text": [
      "count       27.000000\n",
      "mean     55574.814815\n",
      "std       6201.122641\n",
      "min      43091.000000\n",
      "25%      50666.000000\n",
      "50%      56072.000000\n",
      "75%      59168.500000\n",
      "max      66863.000000\n",
      "Name: PEDIDOS_TOTALES, dtype: float64\n"
     ]
    },
    {
     "data": {
      "text/html": [
       "<div>\n",
       "<style scoped>\n",
       "    .dataframe tbody tr th:only-of-type {\n",
       "        vertical-align: middle;\n",
       "    }\n",
       "\n",
       "    .dataframe tbody tr th {\n",
       "        vertical-align: top;\n",
       "    }\n",
       "\n",
       "    .dataframe thead th {\n",
       "        text-align: right;\n",
       "    }\n",
       "</style>\n",
       "<table border=\"1\" class=\"dataframe\">\n",
       "  <thead>\n",
       "    <tr style=\"text-align: right;\">\n",
       "      <th></th>\n",
       "      <th>GRUPO_1</th>\n",
       "      <th>GRUPO_2</th>\n",
       "      <th>GRUPO_3</th>\n",
       "      <th>GRUPO_4</th>\n",
       "      <th>GRUPO_5</th>\n",
       "      <th>GRUPO_6</th>\n",
       "      <th>GRUPO_7</th>\n",
       "      <th>GRUPO_8</th>\n",
       "      <th>GRUPO_9</th>\n",
       "      <th>GRUPO_10</th>\n",
       "    </tr>\n",
       "  </thead>\n",
       "  <tbody>\n",
       "    <tr>\n",
       "      <th>count</th>\n",
       "      <td>27.000000</td>\n",
       "      <td>27.000000</td>\n",
       "      <td>27.000000</td>\n",
       "      <td>27.000000</td>\n",
       "      <td>27.000000</td>\n",
       "      <td>27.000000</td>\n",
       "      <td>27.000000</td>\n",
       "      <td>27.000000</td>\n",
       "      <td>27.000000</td>\n",
       "      <td>27.000000</td>\n",
       "    </tr>\n",
       "    <tr>\n",
       "      <th>mean</th>\n",
       "      <td>6423.407407</td>\n",
       "      <td>5044.185185</td>\n",
       "      <td>2922.037037</td>\n",
       "      <td>939.037037</td>\n",
       "      <td>416.074074</td>\n",
       "      <td>232.666667</td>\n",
       "      <td>33.814815</td>\n",
       "      <td>47.370370</td>\n",
       "      <td>35.444444</td>\n",
       "      <td>22.074074</td>\n",
       "    </tr>\n",
       "    <tr>\n",
       "      <th>std</th>\n",
       "      <td>1075.220666</td>\n",
       "      <td>998.678051</td>\n",
       "      <td>1069.612528</td>\n",
       "      <td>577.807360</td>\n",
       "      <td>412.075136</td>\n",
       "      <td>255.798148</td>\n",
       "      <td>31.527811</td>\n",
       "      <td>84.199008</td>\n",
       "      <td>87.200623</td>\n",
       "      <td>21.845482</td>\n",
       "    </tr>\n",
       "    <tr>\n",
       "      <th>min</th>\n",
       "      <td>4328.000000</td>\n",
       "      <td>3031.000000</td>\n",
       "      <td>1018.000000</td>\n",
       "      <td>100.000000</td>\n",
       "      <td>37.000000</td>\n",
       "      <td>36.000000</td>\n",
       "      <td>3.000000</td>\n",
       "      <td>1.000000</td>\n",
       "      <td>2.000000</td>\n",
       "      <td>6.000000</td>\n",
       "    </tr>\n",
       "    <tr>\n",
       "      <th>25%</th>\n",
       "      <td>5836.500000</td>\n",
       "      <td>4436.000000</td>\n",
       "      <td>2072.500000</td>\n",
       "      <td>533.500000</td>\n",
       "      <td>152.500000</td>\n",
       "      <td>81.000000</td>\n",
       "      <td>17.500000</td>\n",
       "      <td>10.000000</td>\n",
       "      <td>8.500000</td>\n",
       "      <td>11.000000</td>\n",
       "    </tr>\n",
       "    <tr>\n",
       "      <th>50%</th>\n",
       "      <td>6502.000000</td>\n",
       "      <td>5200.000000</td>\n",
       "      <td>3112.000000</td>\n",
       "      <td>759.000000</td>\n",
       "      <td>219.000000</td>\n",
       "      <td>136.000000</td>\n",
       "      <td>27.000000</td>\n",
       "      <td>19.000000</td>\n",
       "      <td>15.000000</td>\n",
       "      <td>15.000000</td>\n",
       "    </tr>\n",
       "    <tr>\n",
       "      <th>75%</th>\n",
       "      <td>7185.000000</td>\n",
       "      <td>5695.000000</td>\n",
       "      <td>3750.500000</td>\n",
       "      <td>1359.000000</td>\n",
       "      <td>517.500000</td>\n",
       "      <td>284.500000</td>\n",
       "      <td>39.500000</td>\n",
       "      <td>37.500000</td>\n",
       "      <td>23.000000</td>\n",
       "      <td>23.500000</td>\n",
       "    </tr>\n",
       "    <tr>\n",
       "      <th>max</th>\n",
       "      <td>8783.000000</td>\n",
       "      <td>6990.000000</td>\n",
       "      <td>4894.000000</td>\n",
       "      <td>2013.000000</td>\n",
       "      <td>1529.000000</td>\n",
       "      <td>1110.000000</td>\n",
       "      <td>172.000000</td>\n",
       "      <td>410.000000</td>\n",
       "      <td>458.000000</td>\n",
       "      <td>105.000000</td>\n",
       "    </tr>\n",
       "  </tbody>\n",
       "</table>\n",
       "</div>"
      ],
      "text/plain": [
       "           GRUPO_1      GRUPO_2      GRUPO_3      GRUPO_4      GRUPO_5  \\\n",
       "count    27.000000    27.000000    27.000000    27.000000    27.000000   \n",
       "mean   6423.407407  5044.185185  2922.037037   939.037037   416.074074   \n",
       "std    1075.220666   998.678051  1069.612528   577.807360   412.075136   \n",
       "min    4328.000000  3031.000000  1018.000000   100.000000    37.000000   \n",
       "25%    5836.500000  4436.000000  2072.500000   533.500000   152.500000   \n",
       "50%    6502.000000  5200.000000  3112.000000   759.000000   219.000000   \n",
       "75%    7185.000000  5695.000000  3750.500000  1359.000000   517.500000   \n",
       "max    8783.000000  6990.000000  4894.000000  2013.000000  1529.000000   \n",
       "\n",
       "           GRUPO_6     GRUPO_7     GRUPO_8     GRUPO_9    GRUPO_10  \n",
       "count    27.000000   27.000000   27.000000   27.000000   27.000000  \n",
       "mean    232.666667   33.814815   47.370370   35.444444   22.074074  \n",
       "std     255.798148   31.527811   84.199008   87.200623   21.845482  \n",
       "min      36.000000    3.000000    1.000000    2.000000    6.000000  \n",
       "25%      81.000000   17.500000   10.000000    8.500000   11.000000  \n",
       "50%     136.000000   27.000000   19.000000   15.000000   15.000000  \n",
       "75%     284.500000   39.500000   37.500000   23.000000   23.500000  \n",
       "max    1110.000000  172.000000  410.000000  458.000000  105.000000  "
      ]
     },
     "execution_count": 244,
     "metadata": {},
     "output_type": "execute_result"
    }
   ],
   "source": [
    "print(datos[pedidos_totales].describe())\n",
    "datos[grupos].describe()"
   ]
  },
  {
   "cell_type": "markdown",
   "id": "13d6f775",
   "metadata": {},
   "source": [
    "Se observa que generalmente la media va disminuyendo en los grupos desde el GRUPO_1 hasta el GRUPO_10. Además los tres primeros grupos son los que aportan más pedidos a los PEDIDOS_TOTALES, seguramente por influencia de otra variables como la región, zona, localidad, estrategias más efectivas de ventas por catálogo, Por influencia personal, entre otras características que se escapan de este estudio.\n",
    "\n",
    "Además la mediana (el percentil 50%) se aproxima en muchos grupos a la media, esto puede dar a entender que se puede aproximar a una distribución normal, debemos comprobarlo visualmente con las gráficas de distribuciones de las variables."
   ]
  },
  {
   "cell_type": "code",
   "execution_count": 215,
   "id": "7f28ed21",
   "metadata": {
    "ExecuteTime": {
     "end_time": "2022-07-11T12:23:46.660268Z",
     "start_time": "2022-07-11T12:23:45.458144Z"
    }
   },
   "outputs": [
    {
     "data": {
      "image/png": "[encoded data removed]",
      "text/plain": [
       "<Figure size 432x288 with 12 Axes>"
      ]
     },
     "metadata": {
      "needs_background": "light"
     },
     "output_type": "display_data"
    },
    {
     "data": {
      "image/png": "[encoded data removed]",
      "text/plain": [
       "<Figure size 432x288 with 1 Axes>"
      ]
     },
     "metadata": {
      "needs_background": "light"
     },
     "output_type": "display_data"
    }
   ],
   "source": [
    "datos[grupos].hist(bins=12, alpha=0.5, rwidth=0.8)\n",
    "datos[pedidos_totales].hist(bins=12, alpha=0.5, rwidth=0.8)\n",
    "plt.show()"
   ]
  },
  {
   "cell_type": "markdown",
   "id": "6c021929",
   "metadata": {},
   "source": [
    "Hay algunos grupos que se aproximan a la distribución normal, se considerará para usar el StandardScaler antes\n",
    "del entrenamiento, por otro lado también probar con el MinMaxScaler para ver si reduce la incertidumbre.\n",
    "\n",
    "Ahora vamos a ver si existe alguna correlación entre las variables grupos usando el muy conocido Heatmap"
   ]
  },
  {
   "cell_type": "code",
   "execution_count": 248,
   "id": "6ec2e02e",
   "metadata": {
    "ExecuteTime": {
     "end_time": "2022-07-11T13:17:17.109692Z",
     "start_time": "2022-07-11T13:17:16.317421Z"
    }
   },
   "outputs": [
    {
     "data": {
      "image/png": "[encoded data removed]",
      "text/plain": [
       "<Figure size 576x576 with 2 Axes>"
      ]
     },
     "metadata": {
      "needs_background": "light"
     },
     "output_type": "display_data"
    }
   ],
   "source": [
    "_, ejes = plt.subplots(figsize = (8, 8))\n",
    "sns.heatmap(datos[datos.columns[1:]].corr(), annot=True, ax=ejes)\n",
    "plt.show()"
   ]
  },
  {
   "cell_type": "markdown",
   "id": "44834106",
   "metadata": {},
   "source": [
    "Se observa que en el primer cuadrante hay una intención de correlación directa, es decir los GRUPO_1, GRUPO_2, GRUPO_3 Y GRUPO_4 están caracterizados por \"detalles\" similares, ya que todos siguen el fujo de correlación. Asímismo con el cuarto cuadrante entre los demás grupos, excepto los GRUPO_5 y GRUPO_8. Evidentemente también se observa que los tres primeros grupos son los que más aportan al cálculo de PEDIDOS_TOTALES.\n",
    "\n",
    "Son detalles a considerar a los hora de definir las características (en la Ingeniería de características)"
   ]
  },
  {
   "cell_type": "markdown",
   "id": "6d87dec7",
   "metadata": {},
   "source": [
    "#### 3.B Ingeniería de características\n",
    "Este proceso es el más complejo, puesto que se necesita tener buena observación y creatividad, para poder definir nuevas características a partir de las variables ya definidas.\n",
    "\n",
    "Pero antes de eso vamos a realizar una escala logarítmica debido a la naturaleza de los datos."
   ]
  },
  {
   "cell_type": "code",
   "execution_count": 304,
   "id": "16234bcb",
   "metadata": {
    "ExecuteTime": {
     "end_time": "2022-07-11T13:59:44.677270Z",
     "start_time": "2022-07-11T13:59:44.642423Z"
    }
   },
   "outputs": [
    {
     "data": {
      "text/html": [
       "<div>\n",
       "<style scoped>\n",
       "    .dataframe tbody tr th:only-of-type {\n",
       "        vertical-align: middle;\n",
       "    }\n",
       "\n",
       "    .dataframe tbody tr th {\n",
       "        vertical-align: top;\n",
       "    }\n",
       "\n",
       "    .dataframe thead th {\n",
       "        text-align: right;\n",
       "    }\n",
       "</style>\n",
       "<table border=\"1\" class=\"dataframe\">\n",
       "  <thead>\n",
       "    <tr style=\"text-align: right;\">\n",
       "      <th></th>\n",
       "      <th>CAMPAÑA</th>\n",
       "      <th>GRUPO_1</th>\n",
       "      <th>GRUPO_2</th>\n",
       "      <th>GRUPO_3</th>\n",
       "      <th>GRUPO_4</th>\n",
       "      <th>GRUPO_5</th>\n",
       "      <th>GRUPO_6</th>\n",
       "      <th>GRUPO_7</th>\n",
       "      <th>GRUPO_8</th>\n",
       "      <th>GRUPO_9</th>\n",
       "      <th>GRUPO_10</th>\n",
       "      <th>PEDIDOS_TOTALES</th>\n",
       "    </tr>\n",
       "  </thead>\n",
       "  <tbody>\n",
       "    <tr>\n",
       "      <th>0</th>\n",
       "      <td>201901</td>\n",
       "      <td>8.778326</td>\n",
       "      <td>8.709795</td>\n",
       "      <td>7.993282</td>\n",
       "      <td>7.409742</td>\n",
       "      <td>7.081709</td>\n",
       "      <td>4.488636</td>\n",
       "      <td>3.433987</td>\n",
       "      <td>6.016157</td>\n",
       "      <td>2.708050</td>\n",
       "      <td>3.761200</td>\n",
       "      <td>10.898830</td>\n",
       "    </tr>\n",
       "    <tr>\n",
       "      <th>1</th>\n",
       "      <td>201902</td>\n",
       "      <td>8.467372</td>\n",
       "      <td>8.193677</td>\n",
       "      <td>7.644441</td>\n",
       "      <td>6.751101</td>\n",
       "      <td>5.988961</td>\n",
       "      <td>3.988984</td>\n",
       "      <td>2.564949</td>\n",
       "      <td>2.944439</td>\n",
       "      <td>2.197225</td>\n",
       "      <td>2.995732</td>\n",
       "      <td>10.671069</td>\n",
       "    </tr>\n",
       "    <tr>\n",
       "      <th>2</th>\n",
       "      <td>201903</td>\n",
       "      <td>8.526549</td>\n",
       "      <td>8.016648</td>\n",
       "      <td>6.925595</td>\n",
       "      <td>5.733341</td>\n",
       "      <td>5.056246</td>\n",
       "      <td>4.143135</td>\n",
       "      <td>2.484907</td>\n",
       "      <td>1.945910</td>\n",
       "      <td>2.079442</td>\n",
       "      <td>2.302585</td>\n",
       "      <td>10.822016</td>\n",
       "    </tr>\n",
       "    <tr>\n",
       "      <th>18</th>\n",
       "      <td>202001</td>\n",
       "      <td>8.725670</td>\n",
       "      <td>8.632484</td>\n",
       "      <td>8.139441</td>\n",
       "      <td>7.206377</td>\n",
       "      <td>5.347108</td>\n",
       "      <td>5.017280</td>\n",
       "      <td>3.663562</td>\n",
       "      <td>2.708050</td>\n",
       "      <td>3.135494</td>\n",
       "      <td>2.397895</td>\n",
       "      <td>10.797246</td>\n",
       "    </tr>\n",
       "    <tr>\n",
       "      <th>19</th>\n",
       "      <td>202002</td>\n",
       "      <td>8.473450</td>\n",
       "      <td>8.344505</td>\n",
       "      <td>7.335634</td>\n",
       "      <td>6.308098</td>\n",
       "      <td>4.997212</td>\n",
       "      <td>4.836282</td>\n",
       "      <td>3.433987</td>\n",
       "      <td>2.197225</td>\n",
       "      <td>2.302585</td>\n",
       "      <td>2.079442</td>\n",
       "      <td>10.774069</td>\n",
       "    </tr>\n",
       "    <tr>\n",
       "      <th>20</th>\n",
       "      <td>202003</td>\n",
       "      <td>8.688622</td>\n",
       "      <td>8.497399</td>\n",
       "      <td>7.779049</td>\n",
       "      <td>6.175867</td>\n",
       "      <td>4.890349</td>\n",
       "      <td>4.983607</td>\n",
       "      <td>3.433987</td>\n",
       "      <td>2.944439</td>\n",
       "      <td>2.079442</td>\n",
       "      <td>2.772589</td>\n",
       "      <td>10.843573</td>\n",
       "    </tr>\n",
       "  </tbody>\n",
       "</table>\n",
       "</div>"
      ],
      "text/plain": [
       "    CAMPAÑA   GRUPO_1   GRUPO_2   GRUPO_3   GRUPO_4   GRUPO_5   GRUPO_6  \\\n",
       "0    201901  8.778326  8.709795  7.993282  7.409742  7.081709  4.488636   \n",
       "1    201902  8.467372  8.193677  7.644441  6.751101  5.988961  3.988984   \n",
       "2    201903  8.526549  8.016648  6.925595  5.733341  5.056246  4.143135   \n",
       "18   202001  8.725670  8.632484  8.139441  7.206377  5.347108  5.017280   \n",
       "19   202002  8.473450  8.344505  7.335634  6.308098  4.997212  4.836282   \n",
       "20   202003  8.688622  8.497399  7.779049  6.175867  4.890349  4.983607   \n",
       "\n",
       "     GRUPO_7   GRUPO_8   GRUPO_9  GRUPO_10  PEDIDOS_TOTALES  \n",
       "0   3.433987  6.016157  2.708050  3.761200        10.898830  \n",
       "1   2.564949  2.944439  2.197225  2.995732        10.671069  \n",
       "2   2.484907  1.945910  2.079442  2.302585        10.822016  \n",
       "18  3.663562  2.708050  3.135494  2.397895        10.797246  \n",
       "19  3.433987  2.197225  2.302585  2.079442        10.774069  \n",
       "20  3.433987  2.944439  2.079442  2.772589        10.843573  "
      ]
     },
     "execution_count": 304,
     "metadata": {},
     "output_type": "execute_result"
    }
   ],
   "source": [
    "datos[grupos] = np.log(datos[grupos]).replace(-np.inf, 0)\n",
    "datos[pedidos_totales] = np.log(datos[pedidos_totales]).replace(-np.inf, 0)\n",
    "pd.concat([datos[ datos[campania] < 202000 ].head(3), \n",
    "           datos[ datos[campania] > 202000 ].head(3)])"
   ]
  },
  {
   "cell_type": "markdown",
   "id": "6753aa13",
   "metadata": {},
   "source": [
    "Las características de los grupos que vamos a considerar son aquellas que brinden intensidad a los grupos que más aportan a los PEDIDOS_TOTALES y los que están más relacionados entre sí, de acuerdo al Heatmap. Además registrar las tasas de crecimiento."
   ]
  },
  {
   "cell_type": "code",
   "execution_count": 305,
   "id": "f88955ce",
   "metadata": {
    "ExecuteTime": {
     "end_time": "2022-07-11T13:59:51.232802Z",
     "start_time": "2022-07-11T13:59:51.192266Z"
    }
   },
   "outputs": [
    {
     "name": "stdout",
     "output_type": "stream",
     "text": [
      "CPU times: user 21.6 ms, sys: 158 µs, total: 21.7 ms\n",
      "Wall time: 24.3 ms\n"
     ]
    }
   ],
   "source": [
    "%%time\n",
    "suma_grupos = datos['GRUPO_1'] + datos['GRUPO_2'] + datos['GRUPO_3'] + datos['GRUPO_4'] + datos['GRUPO_7'] \n",
    "                               + datos['GRUPO_8'] + datos['GRUPO_9'] + datos['GRUPO_10']\n",
    "suma_grupos_primer_cuadrante = datos['GRUPO_1'] + datos['GRUPO_2'] + datos['GRUPO_3'] + datos['GRUPO_4']\n",
    "suma_grupos_cuarto_cuadrante = datos['GRUPO_6'] + datos['GRUPO_7'] + datos['GRUPO_9'] + datos['GRUPO_10']\n",
    "\n",
    "datos['SUMA_GRUPOS'] = suma_grupos\n",
    "datos['SUMA_GRUPOS_PRIMER_CUADRANTE'] = suma_grupos_primer_cuadrante\n",
    "datos['SUMA_GRUPOS_CUARTO_CUADRANTE'] = suma_grupos_cuarto_cuadrante\n",
    "datos['PROMEDIO_GRUPOS'] = suma_grupos / 10\n",
    "datos['PROMEDIO_GRUPOS_PRIMER_CUADRANTE'] = suma_grupos_primer_cuadrante / 4\n",
    "datos['PROMEDIO_GRUPOS_CUARTO_CUADRANTE'] = suma_grupos_cuarto_cuadrante / 4\n",
    "datos['CAMBIO_PORCENTUAL_GRUPO_1']  = (datos['GRUPO_1'].pct_change(periods=1)).fillna(0).replace(np.inf, 0)\n",
    "datos['CAMBIO_PORCENTUAL_GRUPO_2']  = (datos['GRUPO_2'].pct_change(periods=1)).fillna(0).replace(np.inf, 0)\n",
    "datos['CAMBIO_PORCENTUAL_GRUPO_3']  = (datos['GRUPO_3'].pct_change(periods=1)).fillna(0).replace(np.inf, 0)\n",
    "datos['CAMBIO_PORCENTUAL_GRUPO_4']  = (datos['GRUPO_4'].pct_change(periods=1)).fillna(0).replace(np.inf, 0)\n",
    "datos['CAMBIO_PORCENTUAL_GRUPO_5']  = (datos['GRUPO_5'].pct_change(periods=1)).fillna(0).replace(np.inf, 0)\n",
    "datos['CAMBIO_PORCENTUAL_GRUPO_6']  = (datos['GRUPO_6'].pct_change(periods=1)).fillna(0).replace(np.inf, 0)\n",
    "datos['CAMBIO_PORCENTUAL_GRUPO_7']  = (datos['GRUPO_7'].pct_change(periods=1)).fillna(0).replace(np.inf, 0)\n",
    "datos['CAMBIO_PORCENTUAL_GRUPO_8']  = (datos['GRUPO_8'].pct_change(periods=1)).fillna(0).replace(np.inf, 0)\n",
    "datos['CAMBIO_PORCENTUAL_GRUPO_9']  = (datos['GRUPO_9'].pct_change(periods=1)).fillna(0).replace(np.inf, 0)\n",
    "datos['CAMBIO_PORCENTUAL_GRUPO_10'] = (datos['GRUPO_10'].pct_change(periods=1)).fillna(0).replace(np.inf, 0)"
   ]
  },
  {
   "cell_type": "markdown",
   "id": "b42f105c",
   "metadata": {},
   "source": [
    "Ahora se va analizar los grupos por campañas quizá se encuentra alguna relación interesante por año y por cada tres campañas (se puede analizar mejor)"
   ]
  },
  {
   "cell_type": "code",
   "execution_count": 306,
   "id": "ce164c5e",
   "metadata": {
    "ExecuteTime": {
     "end_time": "2022-07-11T13:59:53.918890Z",
     "start_time": "2022-07-11T13:59:53.912439Z"
    }
   },
   "outputs": [
    {
     "name": "stdout",
     "output_type": "stream",
     "text": [
      "CPU times: user 2.01 ms, sys: 129 µs, total: 2.13 ms\n",
      "Wall time: 2.06 ms\n"
     ]
    }
   ],
   "source": [
    "%%time\n",
    "datos['AÑO_CAMPAÑA'] = datos['CAMPAÑA'] // 100\n",
    "datos['TERCIO_AÑO_CAMPAÑA'] = (datos['CAMPAÑA'] % 100) // 3 # Falta optimizar esta característica"
   ]
  },
  {
   "cell_type": "code",
   "execution_count": 307,
   "id": "ddcea38d",
   "metadata": {
    "ExecuteTime": {
     "end_time": "2022-07-11T13:59:56.933590Z",
     "start_time": "2022-07-11T13:59:56.070515Z"
    }
   },
   "outputs": [
    {
     "data": {
      "image/png": "[encoded data removed]",
      "text/plain": [
       "<Figure size 360x288 with 1 Axes>"
      ]
     },
     "metadata": {
      "needs_background": "light"
     },
     "output_type": "display_data"
    },
    {
     "data": {
      "image/png": "[encoded data removed]",
      "text/plain": [
       "<Figure size 432x288 with 1 Axes>"
      ]
     },
     "metadata": {
      "needs_background": "light"
     },
     "output_type": "display_data"
    },
    {
     "data": {
      "image/png": "[encoded data removed]",
      "text/plain": [
       "<Figure size 432x288 with 1 Axes>"
      ]
     },
     "metadata": {
      "needs_background": "light"
     },
     "output_type": "display_data"
    }
   ],
   "source": [
    "datos[\"AÑO_CAMPAÑA\"].value_counts().plot(kind=\"bar\", figsize=(5, 4))\n",
    "datos.plot(kind='bar',x='AÑO_CAMPAÑA', y='CAMBIO_PORCENTUAL_GRUPO_1',color='red')\n",
    "datos.plot(kind='scatter',x='TERCIO_AÑO_CAMPAÑA', y='PEDIDOS_TOTALES',color='red')\n",
    "plt.show()"
   ]
  },
  {
   "cell_type": "markdown",
   "id": "ebbd5ffb",
   "metadata": {},
   "source": [
    "Es algo predecible que finalizando las campañas halla más cambios bruscos por las ofertas y demandas apresuradas. Además se ve que de las campañas 8 hasta la 15 de cada año se tiene a compra más."
   ]
  },
  {
   "cell_type": "markdown",
   "id": "dfd826cc",
   "metadata": {},
   "source": [
    "### 4. Entrenamiento y métricas\n",
    "\n",
    "Se va modelar el problema usando:\n",
    "\n",
    "    1. Linear Regresion\n",
    "    2. RandomForestRegressor\n",
    "    3. GradientBoostingRegressor\n",
    "Apoyandome en la librería Scikit-learn.\n",
    "\n",
    "La variables predictoras se analizaran de acuerdo al proceso de Ingeniería de características realizado previamente."
   ]
  },
  {
   "cell_type": "code",
   "execution_count": 316,
   "id": "bdda00b6",
   "metadata": {
    "ExecuteTime": {
     "end_time": "2022-07-11T14:01:28.315020Z",
     "start_time": "2022-07-11T14:01:28.301876Z"
    }
   },
   "outputs": [],
   "source": [
    "predictores = ['GRUPO_1', 'GRUPO_2', 'GRUPO_3', 'GRUPO_4', 'GRUPO_5', 'GRUPO_6', 'GRUPO_7', 'GRUPO_8', \n",
    "               'GRUPO_9','GRUPO_10', \n",
    "               'SUMA_GRUPOS', 'SUMA_GRUPOS_PRIMER_CUADRANTE','SUMA_GRUPOS_CUARTO_CUADRANTE',\n",
    "               'PROMEDIO_GRUPOS', 'PROMEDIO_GRUPOS_PRIMER_CUADRANTE', 'PROMEDIO_GRUPOS_CUARTO_CUADRANTE',\n",
    "               'TERCIO_AÑO_CAMPAÑA','AÑO_CAMPAÑA',\n",
    "               'CAMBIO_PORCENTUAL_GRUPO_1', 'CAMBIO_PORCENTUAL_GRUPO_2', 'CAMBIO_PORCENTUAL_GRUPO_3',\n",
    "               'CAMBIO_PORCENTUAL_GRUPO_4', 'CAMBIO_PORCENTUAL_GRUPO_5', 'CAMBIO_PORCENTUAL_GRUPO_6',\n",
    "               'CAMBIO_PORCENTUAL_GRUPO_7', 'CAMBIO_PORCENTUAL_GRUPO_8', 'CAMBIO_PORCENTUAL_GRUPO_9',\n",
    "               'CAMBIO_PORCENTUAL_GRUPO_10']\n",
    "\n",
    "prediccion = 'PEDIDOS_TOTALES'\n",
    "\n",
    "X = datos[predictores]\n",
    "y = datos[prediccion]\n",
    "\n",
    "#ESTANDARIZANDO\n",
    "scaler = MinMaxScaler()\n",
    "scaler = StandardScaler()\n",
    "X = scaler.fit_transform(X)"
   ]
  },
  {
   "cell_type": "markdown",
   "id": "642932ec",
   "metadata": {},
   "source": [
    "Partición de los datos en entrenamiento y prueba, luego configurando los modelos"
   ]
  },
  {
   "cell_type": "code",
   "execution_count": 324,
   "id": "7994f3e1",
   "metadata": {
    "ExecuteTime": {
     "end_time": "2022-07-11T14:03:25.939341Z",
     "start_time": "2022-07-11T14:03:25.842340Z"
    }
   },
   "outputs": [
    {
     "data": {
      "text/plain": [
       "array([10.79527338, 11.01334456, 10.8925331 , 10.98030712, 10.86406123,\n",
       "       10.87211873])"
      ]
     },
     "execution_count": 324,
     "metadata": {},
     "output_type": "execute_result"
    }
   ],
   "source": [
    "X_entrenamiento, X_prueba, y_entrenamiento, y_prueba = train_test_split( X, y, \n",
    "                                                                        train_size   = 0.8,\n",
    "                                                                        random_state = 1234,\n",
    "                                                                        shuffle      = True)\n",
    "\n",
    "# Configuración de los modelos\n",
    "modelo_linear_regression = LinearRegression()\n",
    "modelo_random_forest_regressor = RandomForestRegressor(max_depth=6, max_features='sqrt', \n",
    "                                                       n_estimators=50,n_jobs=1)\n",
    "modelo_gradient_boosting_regressor = GradientBoostingRegressor(n_estimators=60, learning_rate=0.5, \n",
    "                                                               max_depth=2, random_state=0)\n",
    "\n",
    "modelo_linear_regression.fit(X_entrenamiento, y_entrenamiento)\n",
    "modelo_random_forest_regressor.fit(X_entrenamiento, y_entrenamiento)\n",
    "modelo_gradient_boosting_regressor.fit(X_entrenamiento, y_entrenamiento)\n",
    "\n",
    "y_predict_linear_regression = modelo_linear_regression.predict(X_prueba)\n",
    "y_predict_random_forest_regressor = modelo_random_forest_regressor.predict(X_prueba)\n",
    "y_predict_gradient_boosting_regressor = modelo_gradient_boosting_regressor.predict(X_prueba)\n",
    "y_predict_linear_regression"
   ]
  },
  {
   "cell_type": "markdown",
   "id": "d2497928",
   "metadata": {
    "ExecuteTime": {
     "end_time": "2022-07-11T14:00:32.002915Z",
     "start_time": "2022-07-11T14:00:31.999798Z"
    }
   },
   "source": [
    "Estableciendo una función que las métricas más importantes para los modelos predictivos"
   ]
  },
  {
   "cell_type": "code",
   "execution_count": 325,
   "id": "2d384db7",
   "metadata": {
    "ExecuteTime": {
     "end_time": "2022-07-11T14:03:28.652963Z",
     "start_time": "2022-07-11T14:03:28.644117Z"
    }
   },
   "outputs": [],
   "source": [
    "def metricas(y_test, y_pred):\n",
    "    r2score = r2_score(y_test, y_pred)\n",
    "    mse = mean_squared_error(y_test, y_pred)\n",
    "    rmse = np.sqrt(mean_squared_error(y_test, y_pred))\n",
    "    print(\"MSE\", mse)\n",
    "    print(\"RMSE\", rmse)\n",
    "    print(\"RMSE %\", rmse * 100)"
   ]
  },
  {
   "cell_type": "code",
   "execution_count": 331,
   "id": "8d2f0057",
   "metadata": {
    "ExecuteTime": {
     "end_time": "2022-07-11T14:10:21.864916Z",
     "start_time": "2022-07-11T14:10:21.856015Z"
    }
   },
   "outputs": [
    {
     "name": "stdout",
     "output_type": "stream",
     "text": [
      "LinearRegression \n",
      "\n",
      "MSE 0.00874011198226876\n",
      "RMSE 0.09348856605098166\n",
      "RMSE % 9.348856605098167\n"
     ]
    }
   ],
   "source": [
    "print(\"LinearRegression \\n\")\n",
    "metricas(y_prueba, y_predict_linear_regression)"
   ]
  },
  {
   "cell_type": "code",
   "execution_count": 330,
   "id": "3718a5c8",
   "metadata": {
    "ExecuteTime": {
     "end_time": "2022-07-11T14:10:19.667729Z",
     "start_time": "2022-07-11T14:10:19.655954Z"
    }
   },
   "outputs": [
    {
     "name": "stdout",
     "output_type": "stream",
     "text": [
      "Random Forest Regressor \n",
      "\n",
      "MSE 0.010731945708409804\n",
      "RMSE 0.10359510465465926\n",
      "RMSE % 10.359510465465927\n"
     ]
    }
   ],
   "source": [
    "print(\"Random Forest Regressor \\n\")\n",
    "metricas(y_prueba, y_predict_random_forest_regressor)"
   ]
  },
  {
   "cell_type": "code",
   "execution_count": 329,
   "id": "711193de",
   "metadata": {
    "ExecuteTime": {
     "end_time": "2022-07-11T14:10:17.667672Z",
     "start_time": "2022-07-11T14:10:17.658003Z"
    }
   },
   "outputs": [
    {
     "name": "stdout",
     "output_type": "stream",
     "text": [
      "Gradient Boosting Regressor \n",
      "\n",
      "MSE 0.008325705193014963\n",
      "RMSE 0.09124530230655692\n",
      "RMSE % 9.124530230655692\n"
     ]
    }
   ],
   "source": [
    "print(\"Gradient Boosting Regressor \\n\")\n",
    "metricas(y_prueba, y_predict_gradient_boosting_regressor)"
   ]
  },
  {
   "cell_type": "markdown",
   "id": "b363ea5b",
   "metadata": {},
   "source": [
    "### 5. Conclusiones\n",
    "\n",
    "1. Debido al escalado StandardScaler, la regresión lineal se comporta mejor, teniendo buenas métricas, un error porcentual el 9.3 %.\n",
    "2. El modelo que mejor se ajusta es el GBoosting (Ensemble), básicamente son árboles de decisión secuenciales, llegando a un RMSE del 0.0912."
   ]
  },
  {
   "cell_type": "markdown",
   "id": "033ce2ae",
   "metadata": {
    "ExecuteTime": {
     "end_time": "2022-07-11T14:07:01.010022Z",
     "start_time": "2022-07-11T14:07:01.005749Z"
    }
   },
   "source": [
    "### 6. Trabajos Futuros\n",
    "Me gustaría tener más carga de datos, para poder generar nuevas características y entender el contexto de la empresa, muchas gracias por la oportunidad."
   ]
  }
 ],
 "metadata": {
  "kernelspec": {
   "display_name": "Python 3",
   "language": "python",
   "name": "python3"
  },
  "language_info": {
   "codemirror_mode": {
    "name": "ipython",
    "version": 3
   },
   "file_extension": ".py",
   "mimetype": "text/x-python",
   "name": "python",
   "nbconvert_exporter": "python",
   "pygments_lexer": "ipython3",
   "version": "3.8.5"
  }
 },
 "nbformat": 4,
 "nbformat_minor": 5
}
